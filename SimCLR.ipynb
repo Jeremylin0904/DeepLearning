{
  "cells": [
    {
      "cell_type": "markdown",
      "metadata": {
        "id": "UmklZXemhspB"
      },
      "source": [
        "# SimCLR\n",
        "\n",
        "In this practial exercise, you are going to implement the famous SimCLR [1] algorithm for self-supervised learning. While not that old, it is often seen as the 'classic' approach to contrastive learning and it is still used as a baseline against which newer approaches are compared. Most of the more recent algorithms are just slight alterations of this approach, so knowing how it works will pay off in the future. Due to the growing amounts of data, self-supervised learning is likely to become more and more relevant in the future.\n",
        "\n",
        "Or as Yan LeCun and Ishan Misra put it: SSL may be helpful to unlock the [dark matter of intelligence](https://ai.facebook.com/blog/self-supervised-learning-the-dark-matter-of-intelligence/).\n",
        "\n",
        "## Getting labels is expensive and can be ethically difficult\n",
        "\n",
        "Regular supervised learning requires each data point to be labeled with ground truth information. Additionally, it requires large amounts of data. This unfortunately means that humans have to spend a lot of time hand-labeling data before we can train our networks. If determining the ground truth requires expert knowledge (e.g. diagnosing a disease based on a brain scan), getting large amounts of data is very expensive and time-consuming. In other cases, it can be very repetitive, mind-numbing work: \"Click all images containing traffic lights.\" Since nobody wants to do this kind of work, it is often outsourced to crowd-workers who earn very little and have generally bad working conditions:\n",
        "https://thegoodai.co/2021/02/03/who-is-labeling-your-data/\n",
        "\n",
        "## SSL is a form of pretraining\n",
        "\n",
        "Self-supervised learning now takes a bit of a different approach than supervised learning. It simply outsources the labeling to the computer! The computer *supervises itself*.\n",
        "\n",
        "We first pretrain our model on a so-called *pretext task* using a large **unlabeled** dataset, then fine-tune it on a smaller, labeled dataset. The pretext tasks often consist of supervised learning, but use labels that the computer can automatically generate for any image. Afterwards, we finetune our model using regular supervised learning on a smaller dataset.\n",
        "\n",
        "One example for a pretext task would be to rotate the input image and let the network predict the degree of rotation. There's no need for human labeling, since the program has the information about how it rotated the image, so it can use that as a label right away. To solve the task, the network needs to learn e.g. that the sky is usually at the top of the image and that cars have their wheels on the bottom of the image. So it is forced to learn to recognise what the image contains, which is probably useful for the downstream task!"
      ]
    },
    {
      "cell_type": "markdown",
      "metadata": {
        "id": "jWk3Os9GrTIC"
      },
      "source": [
        "**Task 1** Come up with a simple pretext task yourself for any kind of dataset you like and describe it in a sentence or two. For example: \"For pretraining a dataset of dog images, I would rotate the images and let the network predicted how the image was rotated.\" But don't simply use rotation, come up with something yourself!\n",
        "\n",
        "Hint: Your program can change anything about the image and use information about that change to create a label."
      ]
    },
    {
      "cell_type": "markdown",
      "metadata": {
        "id": "14qeLONXsriG"
      },
      "source": [
        "**Answer**\n",
        "\n",
        "- For pretraining a dataset of satellite images, I would apply random geometric transformations (e.g., translation, rotation, scaling) to the images and let the network predict the type and magnitude of the transformation applied. This way, the model would learn to understand spatial relationships and features in the images without the need for human-generated labels."
      ]
    },
    {
      "cell_type": "code",
      "source": [
        "from google.colab import drive\n",
        "drive.mount('/content/drive')"
      ],
      "metadata": {
        "colab": {
          "base_uri": "https://localhost:8080/"
        },
        "id": "EtdwU-7rfBuK",
        "outputId": "59aaa8ab-0018-485f-bb91-3aca4b9a79d9"
      },
      "execution_count": null,
      "outputs": [
        {
          "output_type": "stream",
          "name": "stdout",
          "text": [
            "Mounted at /content/drive\n"
          ]
        }
      ]
    },
    {
      "cell_type": "code",
      "source": [
        "!jupyter nbconvert --to latex '/content/drive/MyDrive/Colab Notebooks/SimCLR.ipynb' --output '/content/drive/MyDrive/DL_advance/practical3/SimCLR.tex'\n"
      ],
      "metadata": {
        "colab": {
          "base_uri": "https://localhost:8080/"
        },
        "id": "92nuPFceeUqm",
        "outputId": "0238f1bb-ff1b-47df-b666-39ab9ef4b962"
      },
      "execution_count": null,
      "outputs": [
        {
          "output_type": "stream",
          "name": "stdout",
          "text": [
            "[NbConvertApp] Converting notebook /content/drive/MyDrive/Colab Notebooks/SimCLR.ipynb to latex\n",
            "[NbConvertApp] Support files will be in /content/drive/MyDrive/DL_advance/practical3/SimCLR_files/\n",
            "[NbConvertApp] Making directory /content/drive/MyDrive/DL_advance/practical3\n",
            "[NbConvertApp] Making directory /content/drive/MyDrive/DL_advance/practical3\n",
            "[NbConvertApp] Making directory /content/drive/MyDrive/DL_advance/practical3\n",
            "[NbConvertApp] Making directory /content/drive/MyDrive/DL_advance/practical3\n",
            "[NbConvertApp] Making directory /content/drive/MyDrive/DL_advance/practical3\n",
            "[NbConvertApp] Making directory /content/drive/MyDrive/DL_advance/practical3\n",
            "[NbConvertApp] Making directory /content/drive/MyDrive/DL_advance/practical3\n",
            "[NbConvertApp] Making directory /content/drive/MyDrive/DL_advance/practical3\n",
            "[NbConvertApp] Making directory /content/drive/MyDrive/DL_advance/practical3\n",
            "[NbConvertApp] Making directory /content/drive/MyDrive/DL_advance/practical3\n",
            "[NbConvertApp] Making directory /content/drive/MyDrive/DL_advance/practical3\n",
            "[NbConvertApp] Making directory /content/drive/MyDrive/DL_advance/practical3\n",
            "[NbConvertApp] Writing 114796 bytes to /content/drive/MyDrive/DL_advance/practical3/SimCLR.tex\n"
          ]
        }
      ]
    },
    {
      "cell_type": "markdown",
      "metadata": {
        "id": "tMhB8RRhhZQN",
        "jp-MarkdownHeadingCollapsed": true,
        "tags": []
      },
      "source": [
        "# Preparation\n",
        "\n",
        "No need for you to implement the boring stuff. Just run the cells, we'll need it further down."
      ]
    },
    {
      "cell_type": "code",
      "execution_count": null,
      "metadata": {
        "id": "P3HrlIokhToe",
        "colab": {
          "base_uri": "https://localhost:8080/"
        },
        "outputId": "23bbafd2-100d-4c0d-d2b9-be56f78dd5f5"
      },
      "outputs": [
        {
          "output_type": "stream",
          "name": "stdout",
          "text": [
            "Collecting jax-resnet\n",
            "  Downloading jax_resnet-0.0.4-py2.py3-none-any.whl (11 kB)\n",
            "Requirement already satisfied: optax in /usr/local/lib/python3.10/dist-packages (0.1.7)\n",
            "Collecting umap-learn\n",
            "  Downloading umap-learn-0.5.5.tar.gz (90 kB)\n",
            "\u001b[2K     \u001b[90m━━━━━━━━━━━━━━━━━━━━━━━━━━━━━━━━━━━━━━━━\u001b[0m \u001b[32m90.9/90.9 kB\u001b[0m \u001b[31m2.9 MB/s\u001b[0m eta \u001b[36m0:00:00\u001b[0m\n",
            "\u001b[?25h  Preparing metadata (setup.py) ... \u001b[?25l\u001b[?25hdone\n",
            "Requirement already satisfied: jax in /usr/local/lib/python3.10/dist-packages (from jax-resnet) (0.4.20)\n",
            "Requirement already satisfied: jaxlib in /usr/local/lib/python3.10/dist-packages (from jax-resnet) (0.4.20+cuda11.cudnn86)\n",
            "Requirement already satisfied: flax in /usr/local/lib/python3.10/dist-packages (from jax-resnet) (0.7.5)\n",
            "Requirement already satisfied: absl-py>=0.7.1 in /usr/local/lib/python3.10/dist-packages (from optax) (1.4.0)\n",
            "Requirement already satisfied: chex>=0.1.5 in /usr/local/lib/python3.10/dist-packages (from optax) (0.1.7)\n",
            "Requirement already satisfied: numpy>=1.18.0 in /usr/local/lib/python3.10/dist-packages (from optax) (1.23.5)\n",
            "Requirement already satisfied: scipy>=1.3.1 in /usr/local/lib/python3.10/dist-packages (from umap-learn) (1.11.3)\n",
            "Requirement already satisfied: scikit-learn>=0.22 in /usr/local/lib/python3.10/dist-packages (from umap-learn) (1.2.2)\n",
            "Requirement already satisfied: numba>=0.51.2 in /usr/local/lib/python3.10/dist-packages (from umap-learn) (0.58.1)\n",
            "Collecting pynndescent>=0.5 (from umap-learn)\n",
            "  Downloading pynndescent-0.5.10.tar.gz (1.1 MB)\n",
            "\u001b[2K     \u001b[90m━━━━━━━━━━━━━━━━━━━━━━━━━━━━━━━━━━━━━━━━\u001b[0m \u001b[32m1.1/1.1 MB\u001b[0m \u001b[31m13.2 MB/s\u001b[0m eta \u001b[36m0:00:00\u001b[0m\n",
            "\u001b[?25h  Preparing metadata (setup.py) ... \u001b[?25l\u001b[?25hdone\n",
            "Requirement already satisfied: tqdm in /usr/local/lib/python3.10/dist-packages (from umap-learn) (4.66.1)\n",
            "Requirement already satisfied: dm-tree>=0.1.5 in /usr/local/lib/python3.10/dist-packages (from chex>=0.1.5->optax) (0.1.8)\n",
            "Requirement already satisfied: toolz>=0.9.0 in /usr/local/lib/python3.10/dist-packages (from chex>=0.1.5->optax) (0.12.0)\n",
            "Requirement already satisfied: typing-extensions>=4.2.0 in /usr/local/lib/python3.10/dist-packages (from chex>=0.1.5->optax) (4.5.0)\n",
            "Requirement already satisfied: ml-dtypes>=0.2.0 in /usr/local/lib/python3.10/dist-packages (from jax->jax-resnet) (0.2.0)\n",
            "Requirement already satisfied: opt-einsum in /usr/local/lib/python3.10/dist-packages (from jax->jax-resnet) (3.3.0)\n",
            "Requirement already satisfied: llvmlite<0.42,>=0.41.0dev0 in /usr/local/lib/python3.10/dist-packages (from numba>=0.51.2->umap-learn) (0.41.1)\n",
            "Requirement already satisfied: joblib>=0.11 in /usr/local/lib/python3.10/dist-packages (from pynndescent>=0.5->umap-learn) (1.3.2)\n",
            "Requirement already satisfied: threadpoolctl>=2.0.0 in /usr/local/lib/python3.10/dist-packages (from scikit-learn>=0.22->umap-learn) (3.2.0)\n",
            "Requirement already satisfied: msgpack in /usr/local/lib/python3.10/dist-packages (from flax->jax-resnet) (1.0.7)\n",
            "Requirement already satisfied: orbax-checkpoint in /usr/local/lib/python3.10/dist-packages (from flax->jax-resnet) (0.4.2)\n",
            "Requirement already satisfied: tensorstore in /usr/local/lib/python3.10/dist-packages (from flax->jax-resnet) (0.1.45)\n",
            "Requirement already satisfied: rich>=11.1 in /usr/local/lib/python3.10/dist-packages (from flax->jax-resnet) (13.7.0)\n",
            "Requirement already satisfied: PyYAML>=5.4.1 in /usr/local/lib/python3.10/dist-packages (from flax->jax-resnet) (6.0.1)\n",
            "Requirement already satisfied: markdown-it-py>=2.2.0 in /usr/local/lib/python3.10/dist-packages (from rich>=11.1->flax->jax-resnet) (3.0.0)\n",
            "Requirement already satisfied: pygments<3.0.0,>=2.13.0 in /usr/local/lib/python3.10/dist-packages (from rich>=11.1->flax->jax-resnet) (2.16.1)\n",
            "Requirement already satisfied: etils[epath,epy] in /usr/local/lib/python3.10/dist-packages (from orbax-checkpoint->flax->jax-resnet) (1.5.2)\n",
            "Requirement already satisfied: nest_asyncio in /usr/local/lib/python3.10/dist-packages (from orbax-checkpoint->flax->jax-resnet) (1.5.8)\n",
            "Requirement already satisfied: protobuf in /usr/local/lib/python3.10/dist-packages (from orbax-checkpoint->flax->jax-resnet) (3.20.3)\n",
            "Requirement already satisfied: mdurl~=0.1 in /usr/local/lib/python3.10/dist-packages (from markdown-it-py>=2.2.0->rich>=11.1->flax->jax-resnet) (0.1.2)\n",
            "Requirement already satisfied: fsspec in /usr/local/lib/python3.10/dist-packages (from etils[epath,epy]->orbax-checkpoint->flax->jax-resnet) (2023.6.0)\n",
            "Requirement already satisfied: importlib_resources in /usr/local/lib/python3.10/dist-packages (from etils[epath,epy]->orbax-checkpoint->flax->jax-resnet) (6.1.1)\n",
            "Requirement already satisfied: zipp in /usr/local/lib/python3.10/dist-packages (from etils[epath,epy]->orbax-checkpoint->flax->jax-resnet) (3.17.0)\n",
            "Building wheels for collected packages: umap-learn, pynndescent\n",
            "  Building wheel for umap-learn (setup.py) ... \u001b[?25l\u001b[?25hdone\n",
            "  Created wheel for umap-learn: filename=umap_learn-0.5.5-py3-none-any.whl size=86831 sha256=712efd9fd414d958bb553c9d71cc0f420cb0daf5924c8ecbda8946cf9c16a339\n",
            "  Stored in directory: /root/.cache/pip/wheels/3a/70/07/428d2b58660a1a3b431db59b806a10da736612ebbc66c1bcc5\n",
            "  Building wheel for pynndescent (setup.py) ... \u001b[?25l\u001b[?25hdone\n",
            "  Created wheel for pynndescent: filename=pynndescent-0.5.10-py3-none-any.whl size=55615 sha256=5d4b89377b50959c2518577c1cda8cc619248d4405f718291d724822b266980a\n",
            "  Stored in directory: /root/.cache/pip/wheels/4a/38/5d/f60a40a66a9512b7e5e83517ebc2d1b42d857be97d135f1096\n",
            "Successfully built umap-learn pynndescent\n",
            "Installing collected packages: pynndescent, umap-learn, jax-resnet\n",
            "Successfully installed jax-resnet-0.0.4 pynndescent-0.5.10 umap-learn-0.5.5\n"
          ]
        }
      ],
      "source": [
        "%pip install jax-resnet optax umap-learn"
      ]
    },
    {
      "cell_type": "code",
      "execution_count": null,
      "metadata": {
        "id": "hLuiJEqAv-Ei",
        "colab": {
          "base_uri": "https://localhost:8080/"
        },
        "outputId": "ad2139a3-cdca-4cf1-d4d0-ae4fa2d6e7f7"
      },
      "outputs": [
        {
          "output_type": "stream",
          "name": "stderr",
          "text": [
            "<ipython-input-3-f16ee0ac29b2>:19: DeprecationWarning: Accessing jax.config via the jax.config submodule is deprecated.\n",
            "  from jax.config import config\n"
          ]
        }
      ],
      "source": [
        "import torchvision\n",
        "from jax import random\n",
        "import numpy as np\n",
        "from torch.utils import data\n",
        "from sklearn.datasets import load_digits\n",
        "from sklearn.model_selection import train_test_split\n",
        "from sklearn.preprocessing import StandardScaler, normalize\n",
        "import matplotlib.pyplot as plt\n",
        "import seaborn as sns\n",
        "import pandas as pd\n",
        "import umap\n",
        "import jax\n",
        "import optax\n",
        "from flax.training import train_state\n",
        "from typing import Any\n",
        "import tqdm\n",
        "import jax.numpy as jnp\n",
        "import jax_resnet\n",
        "from jax.config import config\n",
        "import flax.linen as nn\n",
        "from flax.core.frozen_dict import freeze, unfreeze\n",
        "config.update(\"jax_debug_nans\", True)"
      ]
    },
    {
      "cell_type": "code",
      "execution_count": null,
      "metadata": {
        "id": "ll_OnOlThl-U"
      },
      "outputs": [],
      "source": [
        "# Augmentation\n",
        "\n",
        "# Slightly changed from source:\n",
        "# https://github.com/Spijkervet/SimCLR/blob/master/simclr/modules/transformations/simclr.py\n",
        "\n",
        "class TransformsSimCLR:\n",
        "    \"\"\"\n",
        "    A stochastic data augmentation module that transforms any given data example randomly\n",
        "    resulting in two correlated views of the same example,\n",
        "    denoted x i and x j, which we consider as a positive pair.\n",
        "    \"\"\"\n",
        "\n",
        "    def __init__(self, is_pretrain=True, is_val=False):\n",
        "        self.is_pretrain=is_pretrain\n",
        "        self.is_val=is_val\n",
        "        s = 1\n",
        "        color_jitter = torchvision.transforms.ColorJitter(\n",
        "            0.8 * s, 0.8 * s, 0.8 * s, 0.2 * s\n",
        "        )\n",
        "        self.train_transform = torchvision.transforms.Compose(\n",
        "            [\n",
        "                torchvision.transforms.RandomHorizontalFlip(),  # with 0.5 probability\n",
        "                torchvision.transforms.RandomApply([color_jitter], p=0.8),\n",
        "                torchvision.transforms.RandomGrayscale(p=0.2),\n",
        "                torchvision.transforms.Lambda(np.array),\n",
        "            ]\n",
        "        )\n",
        "\n",
        "        self.test_transform = torchvision.transforms.Compose(\n",
        "            [\n",
        "                torchvision.transforms.Lambda(np.array),\n",
        "            ]\n",
        "        )\n",
        "\n",
        "    def __call__(self, x):\n",
        "        if self.is_pretrain:\n",
        "          return self.train_transform(x), self.train_transform(x)\n",
        "        else:\n",
        "          if self.is_val:\n",
        "            return self.test_transform(x)\n",
        "          else:\n",
        "            return self.train_transform(x)"
      ]
    },
    {
      "cell_type": "code",
      "execution_count": null,
      "metadata": {
        "id": "QEACTPr46DUv"
      },
      "outputs": [],
      "source": [
        "def compute_validation_performance(state, val_data_loader):\n",
        "  \"\"\"\n",
        "  Computes the given model's mean loss and accuracy on the validation set.\n",
        "  \"\"\"\n",
        "  val_losses = []\n",
        "  val_accs = []\n",
        "\n",
        "  val_dl_tqdm = tqdm.tqdm(val_data_loader)\n",
        "\n",
        "  for X, Y in val_dl_tqdm:\n",
        "\n",
        "    loss, accuracy = eval_step(state, X, Y)\n",
        "    val_losses.append(loss)\n",
        "    val_accs.append(accuracy)\n",
        "\n",
        "    val_dl_tqdm.set_postfix({'val_loss': loss.item(), 'val_acc': accuracy.item()})\n",
        "\n",
        "  return jnp.array(val_losses).mean().item(), jnp.array(val_accs).mean().item()\n",
        "\n",
        "\n",
        "@jax.jit\n",
        "def eval_step(state, X, Y):\n",
        "\n",
        "    logits = state.apply_fn({'params': state.params,\n",
        "                             'batch_stats': state.batch_stats}, X,\n",
        "                              mutable=False)\n",
        "    labels = jax.nn.one_hot(Y, num_classes=10)\n",
        "    loss = optax.softmax_cross_entropy(logits, labels).mean()\n",
        "    accuracy = jnp.mean(jnp.argmax(logits, -1) == Y)\n",
        "\n",
        "    return loss, accuracy"
      ]
    },
    {
      "cell_type": "code",
      "execution_count": null,
      "metadata": {
        "id": "D3GQ21tkwS6t"
      },
      "outputs": [],
      "source": [
        "# Data loader\n",
        "\n",
        "# Source: https://jax.readthedocs.io/en/latest/notebooks/Neural_Network_and_Data_Loading.html\n",
        "\n",
        "def numpy_collate(batch):\n",
        "  if isinstance(batch[0], np.ndarray):\n",
        "    return np.stack(batch)\n",
        "  elif isinstance(batch[0], (tuple,list)):\n",
        "    transposed = zip(*batch)\n",
        "    return [numpy_collate(samples) for samples in transposed]\n",
        "  else:\n",
        "    return np.array(batch)\n",
        "\n",
        "class NumpyLoader(data.DataLoader):\n",
        "  def __init__(self, dataset, batch_size=1,\n",
        "                shuffle=False, sampler=None,\n",
        "                batch_sampler=None, num_workers=0,\n",
        "                pin_memory=False, drop_last=False,\n",
        "                timeout=0, worker_init_fn=None):\n",
        "    super(self.__class__, self).__init__(dataset,\n",
        "        batch_size=batch_size,\n",
        "        shuffle=shuffle,\n",
        "        sampler=sampler,\n",
        "        batch_sampler=batch_sampler,\n",
        "        num_workers=num_workers,\n",
        "        collate_fn=numpy_collate,\n",
        "        pin_memory=pin_memory,\n",
        "        drop_last=drop_last,\n",
        "        timeout=timeout,\n",
        "        worker_init_fn=worker_init_fn)"
      ]
    },
    {
      "cell_type": "code",
      "execution_count": null,
      "metadata": {
        "id": "lx05jkbspj-4"
      },
      "outputs": [],
      "source": [
        "# Source: https://colab.research.google.com/drive/1Y2IiAG69nKQSoIKAOAWC8uypdP7TGFqF?usp=sharing#scrollTo=TqDvTL_tIQCH\n",
        "def zero_grads():\n",
        "    def init_fn(_):\n",
        "        return ()\n",
        "    def update_fn(updates, state, params=None):\n",
        "        return jax.tree_map(jnp.zeros_like, updates), ()\n",
        "    return optax.GradientTransformation(init_fn, update_fn)"
      ]
    },
    {
      "cell_type": "code",
      "execution_count": null,
      "metadata": {
        "id": "yHz8UtWz9gK6"
      },
      "outputs": [],
      "source": [
        "# Training functions\n",
        "\n",
        "# Adapted from source: https://github.com/google/flax/blob/main/examples/mnist/train.py\n",
        "# Parts that use batch norm adapted from https://github.com/google/flax/blob/main/examples/imagenet/train.py\n",
        "\n",
        "@jax.jit\n",
        "def apply_model(state, X1, X2):\n",
        "  \"\"\"Computes gradients, loss and accuracy for a single batch.\"\"\"\n",
        "  tau = 0.07\n",
        "  def loss_fn(params):\n",
        "    Z1, new_model_state = state.apply_fn({'params': params,\n",
        "                             'batch_stats': state.batch_stats}, X1,\n",
        "                              mutable=['batch_stats'])\n",
        "    Z2, new_model_state = state.apply_fn({'params': params, # We probably want to combine the two new model states, but how?\n",
        "                             'batch_stats': state.batch_stats}, X2,\n",
        "                              mutable=['batch_stats'])\n",
        "    loss = NTXent(Z1, Z2, tau)\n",
        "    return loss, (new_model_state, Z1, Z2)\n",
        "\n",
        "  grad_fn = jax.value_and_grad(loss_fn, has_aux=True)\n",
        "  (loss, (new_model_state, Z1, Z2)), grads = grad_fn(state.params)\n",
        "\n",
        "  new_state = state.apply_gradients(\n",
        "      grads=grads, batch_stats=new_model_state['batch_stats'])\n",
        "\n",
        "  return (new_state, Z1, Z2), loss\n",
        "\n",
        "\n",
        "@jax.jit\n",
        "def apply_model_pos_only(state, X1, X2):\n",
        "  \"\"\"\n",
        "  Computes gradients, loss and accuracy for a single batch,\n",
        "  uing only positive pairs.\n",
        "  \"\"\"\n",
        "  tau = 0.5\n",
        "  def loss_fn(params):\n",
        "    Z1, new_model_state = state.apply_fn({'params': params,\n",
        "                             'batch_stats': state.batch_stats}, X1,\n",
        "                              mutable=['batch_stats'])\n",
        "    Z2, new_model_state = state.apply_fn({'params': params, # TODO Amir: We probably want to combine the two new model states, but how?\n",
        "                             'batch_stats': state.batch_stats}, X2,\n",
        "                              mutable=['batch_stats'])\n",
        "    loss = PositivesOnlyLoss(Z1, Z2)\n",
        "    return loss, (new_model_state, Z1, Z2)\n",
        "\n",
        "  grad_fn = jax.value_and_grad(loss_fn, has_aux=True)\n",
        "  (loss, (new_model_state, Z1, Z2)), grads = grad_fn(state.params)\n",
        "\n",
        "  new_state = state.apply_gradients(\n",
        "      grads=grads, batch_stats=new_model_state['batch_stats'])\n",
        "\n",
        "  return (new_state, Z1, Z2), loss\n",
        "\n",
        "@jax.jit\n",
        "def apply_model_supervised(state, X, Y):\n",
        "  \"\"\"\n",
        "  Computes gradients, loss and accuracy for a single batch via supervised\n",
        "  training, not self-supervised training.\n",
        "  \"\"\"\n",
        "  tau = 0.5\n",
        "  def loss_fn(params):\n",
        "    logits, new_model_state = state.apply_fn({'params': params,\n",
        "                             'batch_stats': state.batch_stats}, X,\n",
        "                              mutable=['batch_stats'])\n",
        "    labels = jax.nn.one_hot(Y, num_classes=10)\n",
        "    loss = optax.softmax_cross_entropy(logits, labels).mean()\n",
        "    accuracy = jnp.mean(jnp.argmax(logits, -1) == Y)\n",
        "    return loss, (new_model_state, accuracy)\n",
        "\n",
        "  grad_fn = jax.value_and_grad(loss_fn, has_aux=True)\n",
        "  (loss, (new_model_state, accuracy)), grads = grad_fn(state.params)\n",
        "\n",
        "  new_state = state.apply_gradients(\n",
        "      grads=grads, batch_stats=new_model_state['batch_stats'])\n",
        "\n",
        "  return (new_state, accuracy), loss\n",
        "\n",
        "\n",
        "def pretrain_epoch(state, train_dl, positives_only=False):\n",
        "  \"\"\"\n",
        "  Train for a single epoch.\n",
        "  positives_only: Don't use negative pairs in contrastive training\n",
        "  \"\"\"\n",
        "\n",
        "  epoch_loss = []\n",
        "  epoch_accuracy = []\n",
        "\n",
        "  train_dl_tqdm = tqdm.tqdm(train_dl)\n",
        "\n",
        "  apply_fn = apply_model_pos_only if positives_only else apply_model\n",
        "\n",
        "  for step, ((X1,X2), Y) in enumerate(train_dl_tqdm):\n",
        "\n",
        "    (new_state, Z1, Z2), loss = apply_fn(state, X1, X2)\n",
        "    state = new_state\n",
        "    epoch_loss.append(loss)\n",
        "    train_dl_tqdm.set_postfix({'train_loss': loss.item()})\n",
        "\n",
        "  train_loss = np.mean(epoch_loss)\n",
        "  return state, train_loss\n",
        "\n",
        "def supervised_epoch(state, train_dl):\n",
        "  \"\"\"\n",
        "  Train for a single epoch with supervised loss.\n",
        "  \"\"\"\n",
        "\n",
        "  epoch_loss = []\n",
        "  epoch_accuracy = []\n",
        "\n",
        "  train_dl_tqdm = tqdm.tqdm(train_dl)\n",
        "\n",
        "  for step, (X, Y) in enumerate(train_dl_tqdm):\n",
        "\n",
        "    (new_state, accuracy), loss = apply_model_supervised(state, X, Y)\n",
        "    state = new_state\n",
        "    epoch_loss.append(loss)\n",
        "    epoch_accuracy.append(accuracy)\n",
        "    train_dl_tqdm.set_postfix({'train_loss': loss.item(), 'train_acc': accuracy})\n",
        "\n",
        "  return state, jnp.array(epoch_loss).mean(), jnp.array(epoch_accuracy).mean()\n",
        "\n",
        "\n",
        "class TrainState(train_state.TrainState):\n",
        "  \"\"\"\n",
        "  Keeps track of the optimizer and updated parameters.\n",
        "  \"\"\"\n",
        "  batch_stats: Any\n",
        "\n",
        "def create_train_state(model, params, config, freeze_encoder=False):\n",
        "  if freeze_encoder:\n",
        "    tx = optax.multi_transform({'zero': zero_grads(),\n",
        "                                'sgd': optax.sgd(config[\"learning_rate\"],\n",
        "                                                  config[\"momentum\"])},\n",
        "                                freeze({'backbone':'zero', 'head': 'sgd'}))\n",
        "  else:\n",
        "    tx = optax.sgd(config[\"learning_rate\"], config[\"momentum\"])\n",
        "  return TrainState.create(\n",
        "      apply_fn=model.apply, params=params[\"params\"], tx=tx,\n",
        "      batch_stats=params[\"batch_stats\"])\n"
      ]
    },
    {
      "cell_type": "markdown",
      "metadata": {
        "id": "R-jldvhKyQZe"
      },
      "source": [
        "# Dataset\n",
        "\n",
        "We are going to use the CIFAR10 dataset. It consists of 10 classes, each represented by 6000 RGB-images of size 32x32.\n",
        "\n",
        "Have a look at a few images."
      ]
    },
    {
      "cell_type": "code",
      "execution_count": null,
      "metadata": {
        "id": "pvqiAtVByLcx",
        "colab": {
          "base_uri": "https://localhost:8080/"
        },
        "outputId": "9de4695a-2cf2-4fb2-e923-d8460ae507b8"
      },
      "outputs": [
        {
          "output_type": "stream",
          "name": "stdout",
          "text": [
            "Downloading https://www.cs.toronto.edu/~kriz/cifar-10-python.tar.gz to ./cifar10/cifar-10-python.tar.gz\n"
          ]
        },
        {
          "output_type": "stream",
          "name": "stderr",
          "text": [
            "100%|██████████| 170498071/170498071 [00:03<00:00, 43896705.18it/s]\n"
          ]
        },
        {
          "output_type": "stream",
          "name": "stdout",
          "text": [
            "Extracting ./cifar10/cifar-10-python.tar.gz to ./cifar10\n",
            "Files already downloaded and verified\n",
            "Files already downloaded and verified\n"
          ]
        }
      ],
      "source": [
        "full_pretrain_dataset = torchvision.datasets.CIFAR10(\n",
        "        './cifar10',\n",
        "        download=True,\n",
        "        transform=TransformsSimCLR(is_pretrain=True, is_val=False),\n",
        "        train=True\n",
        "    )\n",
        "\n",
        "full_supervised_dataset = torchvision.datasets.CIFAR10(\n",
        "        './cifar10',\n",
        "        download=True,\n",
        "        transform=TransformsSimCLR(is_pretrain=False, is_val=False),\n",
        "        train=True\n",
        "    )\n",
        "\n",
        "val_dataset = torchvision.datasets.CIFAR10(\n",
        "        './cifar10',\n",
        "        download=True,\n",
        "        transform=TransformsSimCLR(is_pretrain=False, is_val=True),\n",
        "        train=False\n",
        "    )"
      ]
    },
    {
      "cell_type": "code",
      "execution_count": null,
      "metadata": {
        "id": "eDDW-o7aojc7"
      },
      "outputs": [],
      "source": [
        "# Create a labeled dataset with only 1% of the labels\n",
        "import torch\n",
        "from sklearn.model_selection import StratifiedKFold\n",
        "\n",
        "sk = StratifiedKFold(n_splits=100, shuffle=True, random_state=0)\n",
        "splits = sk.split(np.zeros(len(full_supervised_dataset)), full_supervised_dataset.targets)\n",
        "_, train_idc = list(splits)[0]\n",
        "\n",
        "supervised_dataset_1p = torch.utils.data.Subset(full_supervised_dataset, train_idc)\n",
        "\n",
        "pretrain_dataset = full_pretrain_dataset"
      ]
    },
    {
      "cell_type": "code",
      "execution_count": null,
      "metadata": {
        "id": "P3MnHp8l0H9t",
        "colab": {
          "base_uri": "https://localhost:8080/",
          "height": 397
        },
        "outputId": "278bc21f-84f7-487d-e562-bc0a0d924636"
      },
      "outputs": [
        {
          "output_type": "stream",
          "name": "stdout",
          "text": [
            "Image x1 shape:  (32, 32, 3) \n",
            "Image x2 shape:  (32, 32, 3) \n",
            "class index y:  9 \n",
            "\n"
          ]
        },
        {
          "output_type": "execute_result",
          "data": {
            "text/plain": [
              "<matplotlib.image.AxesImage at 0x7cd4e4a1a650>"
            ]
          },
          "metadata": {},
          "execution_count": 11
        },
        {
          "output_type": "display_data",
          "data": {
            "text/plain": [
              "<Figure size 640x480 with 1 Axes>"
            ],
            "image/png": "[encoded data removed]"
          },
          "metadata": {}
        }
      ],
      "source": [
        "import matplotlib.pyplot as plt\n",
        "import numpy as np\n",
        "\n",
        "(x1,x2), y = pretrain_dataset[1]\n",
        "print(\"Image x1 shape: \", x1.shape,\n",
        "      \"\\nImage x2 shape: \", x2.shape,\n",
        "      \"\\nclass index y: \", y, \"\\n\")\n",
        "\n",
        "merged_images = np.concatenate([x1,x2], axis=1)\n",
        "plt.imshow(merged_images)"
      ]
    },
    {
      "cell_type": "code",
      "source": [
        "import matplotlib.pyplot as plt\n",
        "import numpy as np\n",
        "\n",
        "for i in range(10):\n",
        "  (x1,x2), y = pretrain_dataset[i]\n",
        "  print(\"Image x1 shape: \", x1.shape,\n",
        "        \"\\nImage x2 shape: \", x2.shape,\n",
        "        \"\\nclass index y: \", y, \"\\n\")\n",
        "\n",
        "  merged_images = np.concatenate([x1,x2], axis=1)\n",
        "  plt.imshow(merged_images)\n",
        "  plt.show()"
      ],
      "metadata": {
        "colab": {
          "base_uri": "https://localhost:8080/",
          "height": 1000
        },
        "id": "Ab_LbslJUcmu",
        "outputId": "bb4df3fb-d77f-4994-d903-abab19966470"
      },
      "execution_count": null,
      "outputs": [
        {
          "output_type": "stream",
          "name": "stdout",
          "text": [
            "Image x1 shape:  (32, 32, 3) \n",
            "Image x2 shape:  (32, 32, 3) \n",
            "class index y:  6 \n",
            "\n"
          ]
        },
        {
          "output_type": "display_data",
          "data": {
            "text/plain": [
              "<Figure size 640x480 with 1 Axes>"
            ],
            "image/png": "[encoded data removed]"
          },
          "metadata": {}
        },
        {
          "output_type": "stream",
          "name": "stdout",
          "text": [
            "Image x1 shape:  (32, 32, 3) \n",
            "Image x2 shape:  (32, 32, 3) \n",
            "class index y:  9 \n",
            "\n"
          ]
        },
        {
          "output_type": "display_data",
          "data": {
            "text/plain": [
              "<Figure size 640x480 with 1 Axes>"
            ],
            "image/png": "[encoded data removed]"
          },
          "metadata": {}
        },
        {
          "output_type": "stream",
          "name": "stdout",
          "text": [
            "Image x1 shape:  (32, 32, 3) \n",
            "Image x2 shape:  (32, 32, 3) \n",
            "class index y:  9 \n",
            "\n"
          ]
        },
        {
          "output_type": "display_data",
          "data": {
            "text/plain": [
              "<Figure size 640x480 with 1 Axes>"
            ],
            "image/png": "[encoded data removed]"
          },
          "metadata": {}
        },
        {
          "output_type": "stream",
          "name": "stdout",
          "text": [
            "Image x1 shape:  (32, 32, 3) \n",
            "Image x2 shape:  (32, 32, 3) \n",
            "class index y:  4 \n",
            "\n"
          ]
        },
        {
          "output_type": "display_data",
          "data": {
            "text/plain": [
              "<Figure size 640x480 with 1 Axes>"
            ],
            "image/png": "[encoded data removed]"
          },
          "metadata": {}
        },
        {
          "output_type": "stream",
          "name": "stdout",
          "text": [
            "Image x1 shape:  (32, 32, 3) \n",
            "Image x2 shape:  (32, 32, 3) \n",
            "class index y:  1 \n",
            "\n"
          ]
        },
        {
          "output_type": "display_data",
          "data": {
            "text/plain": [
              "<Figure size 640x480 with 1 Axes>"
            ],
            "image/png": "[encoded data removed]"
          },
          "metadata": {}
        },
        {
          "output_type": "stream",
          "name": "stdout",
          "text": [
            "Image x1 shape:  (32, 32, 3) \n",
            "Image x2 shape:  (32, 32, 3) \n",
            "class index y:  1 \n",
            "\n"
          ]
        },
        {
          "output_type": "display_data",
          "data": {
            "text/plain": [
              "<Figure size 640x480 with 1 Axes>"
            ],
            "image/png": "[encoded data removed]"
          },
          "metadata": {}
        },
        {
          "output_type": "stream",
          "name": "stdout",
          "text": [
            "Image x1 shape:  (32, 32, 3) \n",
            "Image x2 shape:  (32, 32, 3) \n",
            "class index y:  2 \n",
            "\n"
          ]
        },
        {
          "output_type": "display_data",
          "data": {
            "text/plain": [
              "<Figure size 640x480 with 1 Axes>"
            ],
            "image/png": "[encoded data removed]"
          },
          "metadata": {}
        },
        {
          "output_type": "stream",
          "name": "stdout",
          "text": [
            "Image x1 shape:  (32, 32, 3) \n",
            "Image x2 shape:  (32, 32, 3) \n",
            "class index y:  7 \n",
            "\n"
          ]
        },
        {
          "output_type": "display_data",
          "data": {
            "text/plain": [
              "<Figure size 640x480 with 1 Axes>"
            ],
            "image/png": "[encoded data removed]"
          },
          "metadata": {}
        },
        {
          "output_type": "stream",
          "name": "stdout",
          "text": [
            "Image x1 shape:  (32, 32, 3) \n",
            "Image x2 shape:  (32, 32, 3) \n",
            "class index y:  8 \n",
            "\n"
          ]
        },
        {
          "output_type": "display_data",
          "data": {
            "text/plain": [
              "<Figure size 640x480 with 1 Axes>"
            ],
            "image/png": "[encoded data removed]"
          },
          "metadata": {}
        },
        {
          "output_type": "stream",
          "name": "stdout",
          "text": [
            "Image x1 shape:  (32, 32, 3) \n",
            "Image x2 shape:  (32, 32, 3) \n",
            "class index y:  3 \n",
            "\n"
          ]
        },
        {
          "output_type": "display_data",
          "data": {
            "text/plain": [
              "<Figure size 640x480 with 1 Axes>"
            ],
            "image/png": "[encoded data removed]"
          },
          "metadata": {}
        }
      ]
    },
    {
      "cell_type": "markdown",
      "metadata": {
        "id": "vDNcEEJR3t-l"
      },
      "source": [
        "You maybe have noticed that the transformation module we use directly gives us two images instead of one. They are always two differently augmented versions of the same source image. This will be needed for SimCLR, which teaches the network to recognise that these two images show the same object, despite the differences introduced by the augmentations."
      ]
    },
    {
      "cell_type": "markdown",
      "metadata": {
        "id": "e1TV2AUu5hG_"
      },
      "source": [
        "# Contrastive learning\n",
        "\n",
        "The basic idea of contrastive learning is to learn by comparison. In the following image, the model is supposed to learn that the first two pictures show the same object, but the third one does not. Kind of like in the children's game Memory, where you try to find two matching tiles. Just... without the memory part. All the tiles are turned face up.\n",
        "\n",
        "Contrastive learning is a really stupid version of Memory.\n",
        "\n",
        "\n"
      ]
    },
    {
      "cell_type": "code",
      "execution_count": null,
      "metadata": {
        "id": "5ol_liYy3s8a",
        "colab": {
          "base_uri": "https://localhost:8080/",
          "height": 245
        },
        "outputId": "2b6c619a-89e5-4e9a-ee88-ff8ae8131833"
      },
      "outputs": [
        {
          "output_type": "execute_result",
          "data": {
            "text/plain": [
              "<matplotlib.image.AxesImage at 0x7cd4e415c0d0>"
            ]
          },
          "metadata": {},
          "execution_count": 13
        },
        {
          "output_type": "display_data",
          "data": {
            "text/plain": [
              "<Figure size 640x480 with 1 Axes>"
            ],
            "image/png": "[encoded data removed]"
          },
          "metadata": {}
        }
      ],
      "source": [
        "(x00,x01), y0 = pretrain_dataset[1]\n",
        "(x10,x11), y1 = pretrain_dataset[4]\n",
        "merged_images = np.concatenate([x00,x01,x10], axis=1)\n",
        "plt.imshow(merged_images)"
      ]
    },
    {
      "cell_type": "markdown",
      "metadata": {
        "id": "GcFqHcaO6wNs"
      },
      "source": [
        "On a mathematical level, the model outputs a feature vector (an embedding) for each input image. The embeddings of similar images (like the two images on the left) are encouraged to move closer to each other, while embeddings of dissimilar images (middle and right image) should move away from each other.\n",
        "\n",
        "This approach is fundamentally different from supervised learning. While supervised learning prescribes the exact output that the model is supposed to produce for a given input, contrastive learning only cares about the *relationship between different outputs*.\n",
        "\n",
        "Image pairs that we, the user, define as similar are called **positive pairs**, all others are **negative pairs**."
      ]
    },
    {
      "cell_type": "markdown",
      "metadata": {
        "id": "3WZBPipS_QJK"
      },
      "source": [
        "## Similarity between images\n",
        "\n",
        "We want to be able to measure how close or far the embeddings for different images are, to see if our model can tell positive and negative pairs apart. In SimCLR, this is done using the cosine similarity. For two d-dimensional embeddings $z_1$ and $z_2$, it provides a measure for how similar they are.\n",
        "\n",
        "$cos(z_1,z_2) = \\frac{z_1}{|z_1|} \\cdot \\frac{z_2}{|z_2|}$"
      ]
    },
    {
      "cell_type": "markdown",
      "metadata": {
        "id": "NwMAR6Rq7MBE"
      },
      "source": [
        "**Task 2** Implement the cosine similarity function below. It should also work if $Z_1$ and $Z_2$ are batches of shape [batch, features] and produce an output of shape [batch], containing the cosine similarities between the two feature vectors in the same row.\n",
        "\n",
        "Hint: Using for-loops here works, but is really inefficient. The efficient implementation operates on matrices, not on individual elements. It mostly looks like the equation above. If you get a problem with broadcasting between different shapes when you try to normalize $Z_1$ and $Z_2$, the function jnp.expand_dims might be useful."
      ]
    },
    {
      "cell_type": "code",
      "execution_count": null,
      "metadata": {
        "id": "x9Y72aaMBxaD"
      },
      "outputs": [],
      "source": [
        "import jax.numpy as jnp\n",
        "\n",
        "def cosine_similarity(Z1, Z2):\n",
        "  \"\"\"\n",
        "  Z1, Z2: Batches of image embeddings of shape [Batch,EmbeddingDim]. Z1[i,:] and\n",
        "          Z2[i,:] represent two differently augmented versions of the same image\n",
        "\n",
        "  Returns: row-wise cosine similarity between row-vectors in Z1 and Z2,\n",
        "           shape [Batch]\n",
        "  \"\"\"\n",
        "\n",
        "  # Normalize the embeddings\n",
        "  Z1_norm = jnp.linalg.norm(Z1, axis=1, keepdims=True)\n",
        "  Z2_norm = jnp.linalg.norm(Z2, axis=1, keepdims=True)\n",
        "\n",
        "  Z1 = Z1 / Z1_norm\n",
        "  Z2 = Z2 / Z2_norm\n",
        "\n",
        "  # Compute the dot product between the normalized embeddings\n",
        "  dot_products = jnp.sum(Z1 * Z2, axis=1)\n",
        "\n",
        "  # Compute the cosine similarity\n",
        "  cosine_similarities = dot_products\n",
        "\n",
        "  return cosine_similarities\n"
      ]
    },
    {
      "cell_type": "markdown",
      "metadata": {
        "id": "kE0_flzSCp7S"
      },
      "source": [
        "Verify your implementation:"
      ]
    },
    {
      "cell_type": "code",
      "execution_count": null,
      "metadata": {
        "id": "p3f_d3ha7qZ7",
        "colab": {
          "base_uri": "https://localhost:8080/"
        },
        "outputId": "396df7ad-ccbf-472a-a674-238d62c54d5d"
      },
      "outputs": [
        {
          "output_type": "execute_result",
          "data": {
            "text/plain": [
              "(4, 8)"
            ]
          },
          "metadata": {},
          "execution_count": 15
        }
      ],
      "source": [
        "# Use these sample inputs to verify that your implementation is correct.\n",
        "# You can interpret Z1 and Z2 as batches of image embeddings with eight features\n",
        "# per image.\n",
        "\n",
        "random_key_0, *subkeys = random.split(random.PRNGKey(0), 3)\n",
        "\n",
        "#Batch size = 4\n",
        "#Features = 8\n",
        "Z1 = jnp.array(\n",
        "    [[0.08780523,-1.4772962,0.23108286,0.3828757,0.42218092,-1.4358605,0.17658076,1.4141593],\n",
        "    [-0.43024102,-0.2960915,0.64877045,1.0952688,0.10887499,2.5801923,-0.46863857,-0.07292866],\n",
        "    [0.8462296,-0.9795519,-0.17020774,0.5177701,-1.2235159,0.56981355,1.1847981,-1.9526129],\n",
        "    [-2.2450106,0.8794637,0.2156571,0.22987445,-0.8855504,0.180139,0.75102454,0.79618496]])\n",
        "\n",
        "Z2 = jnp.array(\n",
        "    [[0.78220856,-0.95930517,0.04278377,-0.14640434,-0.45225152,-0.164141,1.0146061,0.19397569],\n",
        "    [-0.7706246,-0.35345954,-0.67818415,-1.1203834,-0.30522528,0.669694, 1.2020552,0.87423134],\n",
        "    [0.43238065,-0.18009177,-0.13709433,-0.33463678,-1.1886245,-0.35386798,-1.0499382,0.10795221],\n",
        "    [0.23042125,-1.5269405,0.771874,-0.1904757,-1.5630287,0.8980937,-1.9551364,-0.0497684]])\n",
        "Z1.shape"
      ]
    },
    {
      "cell_type": "code",
      "execution_count": null,
      "metadata": {
        "id": "o90UHAJP8ENE"
      },
      "outputs": [],
      "source": [
        "your_output = cosine_similarity(Z1, Z2)\n",
        "desired_output = jnp.array([ 0.44447064, -0.02418898,  0.03658391, -0.19001874])\n",
        "\n",
        "np.testing.assert_array_almost_equal(your_output, desired_output)"
      ]
    },
    {
      "cell_type": "markdown",
      "metadata": {
        "id": "aAOXW2Xdq5k8"
      },
      "source": [
        "**Task 3** Wait a minute, why don't we just use the length of the unnormalized difference vector $|z_1-z_2|$ instead of the cosine similarity? Which problems could occur there that cosine similarity avoids?"
      ]
    },
    {
      "cell_type": "markdown",
      "metadata": {
        "id": "yidDdY72Azuv"
      },
      "source": [
        "**Answer**\n",
        "\n",
        "Cosine similarity is commonly used in data augmentation for contrastive learning due to its robustness to various transformations, including translation, rotation, and scaling. It remains effective in capturing high-level similarities between images by focusing on vector directions, making it suitable for tasks requiring invariance. Additionally, it offers efficient computation, making it a powerful tool for training neural networks on large-scale datasets."
      ]
    },
    {
      "cell_type": "markdown",
      "metadata": {
        "id": "NkcxSyrE9Kkj"
      },
      "source": [
        "## Loss function\n",
        "\n",
        "This is the point in the exercise where you need to think a bit. While the loss function is not very complex, you do need to figure out how to translate the formulas into efficient matrix operations of the framework you're working with. There are different ways of doing this, pick the one that feels most natural to you, but please avoid for-loops. This is the core part of the exercise, and might take some time, depending on your previous experience.\n",
        "\n",
        "If you have tried for a bit and get stuck somewhere, feel free to use the hints below that are based on where the TA needed a bit longer for the implementation than he would have liked.\n",
        "\n",
        "**Task 4** Implement the loss function for a whole batch of image embeddings (equation 1 / most of algorithm 1 in the paper)."
      ]
    },
    {
      "cell_type": "markdown",
      "metadata": {
        "id": "-Wm2m6xZCvS0"
      },
      "source": [
        "Verify your implementation:"
      ]
    },
    {
      "cell_type": "code",
      "execution_count": null,
      "metadata": {
        "id": "PiKEMFQyARZT"
      },
      "outputs": [],
      "source": [
        "import jax.lax as lax\n",
        "import jax.numpy as jnp\n",
        "\n",
        "@jax.jit\n",
        "def NTXent(Z1, Z2, tau):\n",
        "  \"\"\"\n",
        "  Z1, Z2: Batches of image embeddings of shape [Batch,EmbeddingDim]. Z1[i,:] and\n",
        "          Z2[i,:] represent two differently augmented versions of the same image\n",
        "  tau   : Temperature parameter for softmax\n",
        "\n",
        "  Returns: NTXent loss between Z1 and Z2, a single number\n",
        "  \"\"\"\n",
        "  Z1_norm = jnp.linalg.norm(Z1, axis=1, keepdims=True)\n",
        "  Z2_norm = jnp.linalg.norm(Z2, axis=1, keepdims=True)\n",
        "\n",
        "  Z1_str = Z1/Z1_norm\n",
        "  Z2_str = Z2/Z2_norm\n",
        "\n",
        "\n",
        "  similarity_matrix = jnp.dot(jnp.concatenate((Z1_str, Z2_str)),jnp.concatenate((Z1_str, Z2_str)).T)\n",
        "\n",
        "\n",
        "  # Normalize the similarity matrix\n",
        "  similarity_matrix = jnp.exp(similarity_matrix / tau)\n",
        "\n",
        "\n",
        "  denom = jnp.sum(similarity_matrix, axis = 1) - jnp.diag(similarity_matrix)\n",
        "\n",
        "\n",
        "  ntxent_loss_matrix = -jnp.log(similarity_matrix/denom)\n",
        "\n",
        "\n",
        "  row_indices = jnp.arange(2*Z1.shape[0])\n",
        "  col_indices = jnp.concatenate((jnp.arange(Z1.shape[0],Z1.shape[0]*2),jnp.arange(Z1.shape[0])))\n",
        "\n",
        "\n",
        "  ntxent_loss = jnp.sum(ntxent_loss_matrix[row_indices, col_indices])/(2.0*Z1.shape[0])\n",
        "\n",
        "  return ntxent_loss\n"
      ]
    },
    {
      "cell_type": "code",
      "source": [
        "your_output = NTXent(Z1, Z2, 0.07)\n",
        "desired_output = 6.792835\n",
        "\n",
        "np.testing.assert_array_almost_equal(your_output, desired_output, decimal = 4)"
      ],
      "metadata": {
        "id": "q39HdqqgIY3r"
      },
      "execution_count": null,
      "outputs": []
    },
    {
      "cell_type": "markdown",
      "metadata": {
        "id": "HBoUg6L-DDOl"
      },
      "source": [
        "## Define the model\n",
        "\n",
        "After coding the loss function, we now need a model that we can train with it!\n",
        "\n",
        "We use a simple ResNet18 as our encoder model. It ends in a global average pooling, followed by a linear layer. We discard the linear layer and stick a projection head to the end of the model instead.\n",
        "\n",
        "You could also make use of that layer instead of removing it and then attaching a new linear layer as part of the projection head, but it's a bit cleaner this way."
      ]
    },
    {
      "cell_type": "code",
      "execution_count": null,
      "metadata": {
        "id": "q0J0kysj6cP5",
        "colab": {
          "base_uri": "https://localhost:8080/"
        },
        "outputId": "ccc6b728-c3fc-4660-91ad-068683a407fd"
      },
      "outputs": [
        {
          "output_type": "execute_result",
          "data": {
            "text/plain": [
              "((8, 2), dtype('float32'))"
            ]
          },
          "metadata": {},
          "execution_count": 19
        }
      ],
      "source": [
        "# Load randomly initialized ResNet.\n",
        "\n",
        "# n_classes doesn't matter, we remove the only layer impacted by it anyway.\n",
        "# But we need to pass it to construct a ResNet.\n",
        "base_model = jax_resnet.ResNet18(n_classes=2)\n",
        "\n",
        "# Initialize the model's parameters. A dummy input is required to infer which\n",
        "# shape the parameters need to have\n",
        "random_key_1, *subkeys = random.split(random_key_0, 3)\n",
        "dummy_input = random.normal(subkeys[0],(8,32,32,3))\n",
        "base_params = base_model.init(rngs=subkeys[1], x=dummy_input)\n",
        "\n",
        "# Test whether everything works,\n",
        "# mutable=False ensures that batch_norm statistics aren't updated\n",
        "output = base_model.apply(base_params, dummy_input, mutable=False)\n",
        "output.shape, output.dtype"
      ]
    },
    {
      "cell_type": "code",
      "execution_count": null,
      "metadata": {
        "id": "pm4n9NcYjzcg",
        "colab": {
          "base_uri": "https://localhost:8080/"
        },
        "outputId": "1c8adb26-6dc4-401a-aa07-8b02550df0a4"
      },
      "outputs": [
        {
          "output_type": "execute_result",
          "data": {
            "text/plain": [
              "((8, 128), dtype('float32'))"
            ]
          },
          "metadata": {},
          "execution_count": 20
        }
      ],
      "source": [
        "# Source: https://www.kaggle.com/code/roguekk007/flax-model-surgery\n",
        "\n",
        "class EncoderWithProjectionHead(nn.Module):\n",
        "    encoder : nn.Sequential\n",
        "\n",
        "    def setup(self):\n",
        "        self.proj_head = nn.Sequential([\n",
        "            nn.Dense(features=128),\n",
        "            nn.relu,\n",
        "            nn.Dense(features=128)\n",
        "            ])\n",
        "\n",
        "    def __call__(self, x):\n",
        "        x = self.encoder(x)\n",
        "        return self.proj_head(x)\n",
        "\n",
        "# Use all of ResNet, except for the last layer\n",
        "encoder = nn.Sequential(base_model.layers[:-1])\n",
        "encoder_with_proj_head = EncoderWithProjectionHead(encoder=encoder)\n",
        "\n",
        "random_key_2, subkey = jax.random.split(random_key_1)\n",
        "pretrain_params = encoder_with_proj_head.init(subkey, dummy_input)\n",
        "\n",
        "# Overwrite the randomly initialized parameters with the ones we got from pretraining\n",
        "pretrain_params = unfreeze(pretrain_params)\n",
        "pretrain_params['params']['backbone'] = base_params[\"params\"]\n",
        "pretrain_params['batch_stats']['backbone'] = base_params[\"batch_stats\"]\n",
        "pretrain_params = freeze(pretrain_params)\n",
        "\n",
        "# Test whether everything works\n",
        "output = encoder_with_proj_head.apply(pretrain_params, dummy_input, mutable=False)\n",
        "output.shape, output.dtype"
      ]
    },
    {
      "cell_type": "markdown",
      "metadata": {
        "id": "hPJiOE1joICF"
      },
      "source": [
        "## Train the model using your loss function\n",
        "\n",
        "Let's see what your loss function can do in practice! This should not take more than 2 minutes per epoch. If it does, make sure you are using a GPU environment."
      ]
    },
    {
      "cell_type": "code",
      "execution_count": null,
      "metadata": {
        "id": "dnS_hX7l2Kfu",
        "colab": {
          "base_uri": "https://localhost:8080/"
        },
        "outputId": "081ef51a-7bcc-478c-9e12-11ada62c1527"
      },
      "outputs": [
        {
          "output_type": "stream",
          "name": "stderr",
          "text": [
            "100%|██████████| 391/391 [02:54<00:00,  2.24it/s, train_loss=0.402]\n"
          ]
        },
        {
          "output_type": "stream",
          "name": "stdout",
          "text": [
            "Epoch 0: pretrain loss 3.066725969314575\n"
          ]
        },
        {
          "output_type": "stream",
          "name": "stderr",
          "text": [
            "100%|██████████| 391/391 [02:20<00:00,  2.78it/s, train_loss=0.177]\n"
          ]
        },
        {
          "output_type": "stream",
          "name": "stdout",
          "text": [
            "Epoch 1: pretrain loss 0.32071125507354736\n"
          ]
        },
        {
          "output_type": "stream",
          "name": "stderr",
          "text": [
            "100%|██████████| 391/391 [02:19<00:00,  2.80it/s, train_loss=0.0493]\n"
          ]
        },
        {
          "output_type": "stream",
          "name": "stdout",
          "text": [
            "Epoch 2: pretrain loss 0.16379813849925995\n"
          ]
        },
        {
          "output_type": "stream",
          "name": "stderr",
          "text": [
            "100%|██████████| 391/391 [02:17<00:00,  2.84it/s, train_loss=0.119]\n"
          ]
        },
        {
          "output_type": "stream",
          "name": "stdout",
          "text": [
            "Epoch 3: pretrain loss 0.11657080054283142\n"
          ]
        },
        {
          "output_type": "stream",
          "name": "stderr",
          "text": [
            "100%|██████████| 391/391 [02:19<00:00,  2.80it/s, train_loss=0.113]"
          ]
        },
        {
          "output_type": "stream",
          "name": "stdout",
          "text": [
            "Epoch 4: pretrain loss 0.10293171554803848\n"
          ]
        },
        {
          "output_type": "stream",
          "name": "stderr",
          "text": [
            "\n"
          ]
        }
      ],
      "source": [
        "config = {\"learning_rate\": 0.01, \"momentum\": 0.9}\n",
        "pretrain_dataloader = NumpyLoader(pretrain_dataset, batch_size=128)\n",
        "\n",
        "pretrain_state = create_train_state(encoder_with_proj_head, pretrain_params, config)\n",
        "\n",
        "for epoch in range(5):\n",
        "\n",
        "  pretrain_state, pretrain_loss = pretrain_epoch(pretrain_state, pretrain_dataloader)\n",
        "  print(f\"Epoch {epoch}: pretrain loss {pretrain_loss}\")"
      ]
    },
    {
      "cell_type": "markdown",
      "metadata": {
        "id": "qyXN8S4GgZcY"
      },
      "source": [
        "Hopefully you saw the loss going down! This is contrastive learning in practice. Simply by comparing positive and negative samples, the model gets trained. Of course, we still need to evaluate how useful the learned features are.\n",
        "\n",
        " But before that: Why do we even bother with negative pairs?"
      ]
    },
    {
      "cell_type": "markdown",
      "metadata": {
        "id": "RMlom8ZV1bGi"
      },
      "source": [
        "## Intermezzo: Focusing on the positive\n",
        "\n",
        "\n",
        "**Task 5**\n",
        "1. What would we need to change in our loss function to only use positive pairs?\n",
        "2. What do you think the effect would be on training?\n",
        "\n",
        "**Answer**\n",
        "1. We don't need to calculate the similarity of all the sample, just calculate the similarity between the sample and the corresponding augmented sample.\n",
        "2. By using only positive pairs in the loss function, the training process would likely become more focused on pulling similar pairs closer together while ignoring negative pairs. This could lead to faster convergence and a stronger emphasis on capturing fine-grained details of the data, as the model wouldn't be distracted by the dissimilarity between negative pairs."
      ]
    },
    {
      "cell_type": "markdown",
      "metadata": {
        "id": "tGrJd_drhyvO"
      },
      "source": [
        "**Answer**"
      ]
    },
    {
      "cell_type": "markdown",
      "metadata": {
        "id": "4FFYMjWp-PFR"
      },
      "source": [
        "**Task 6** Quickly write the loss function that only uses positive pairs, then run the code below to see whether your prediction was right."
      ]
    },
    {
      "cell_type": "code",
      "execution_count": null,
      "metadata": {
        "id": "MrZiHNgf9gk8"
      },
      "outputs": [],
      "source": [
        "@jax.jit\n",
        "def PositivesOnlyLoss(Z1, Z2):\n",
        "  Z1_norm = jnp.linalg.norm(Z1, axis=1, keepdims=True)\n",
        "  Z2_norm = jnp.linalg.norm(Z2, axis=1, keepdims=True)\n",
        "\n",
        "  Z1_str = Z1/Z1_norm\n",
        "  Z2_str = Z2/Z2_norm\n",
        "\n",
        "  similarity_matrix = -jnp.diag(jnp.dot(Z1_str, Z2_str.T))\n",
        "\n",
        "  ntxent_loss_matrix = np.mean(similarity_matrix)\n",
        "\n",
        "  return ntxent_loss_matrix\n",
        "\n",
        "# Verify your solution\n",
        "your_output = PositivesOnlyLoss(Z1, Z2)\n",
        "desired_output = -0.06671171\n",
        "\n",
        "np.testing.assert_array_almost_equal(your_output, desired_output)"
      ]
    },
    {
      "cell_type": "code",
      "execution_count": null,
      "metadata": {
        "id": "dQxYmS1i9Xg9",
        "colab": {
          "base_uri": "https://localhost:8080/"
        },
        "outputId": "609a50aa-a0c0-47c8-feab-19e49abc3332"
      },
      "outputs": [
        {
          "output_type": "stream",
          "name": "stderr",
          "text": [
            "100%|██████████| 391/391 [03:26<00:00,  1.90it/s, train_loss=-.997]"
          ]
        },
        {
          "output_type": "stream",
          "name": "stdout",
          "text": [
            "Epoch 0: -0.984745442867279\n"
          ]
        },
        {
          "output_type": "stream",
          "name": "stderr",
          "text": [
            "\n"
          ]
        }
      ],
      "source": [
        "# Train model using only positive pairs\n",
        "\n",
        "# Note that we can use the same model and parameters as before, since these were\n",
        "# not changed by the previous training. The updated parameters are stuck in\n",
        "# pretrain_state for now. This is part of the functional character of JAX.\n",
        "positives_only_state = create_train_state(encoder_with_proj_head,\n",
        "                                          pretrain_params, config)\n",
        "\n",
        "for epoch in range(1):\n",
        "\n",
        "  positives_only_state, pretrain_loss = pretrain_epoch(positives_only_state,\n",
        "                                                       pretrain_dataloader,\n",
        "                                                       positives_only=True)\n",
        "  print(f\"Epoch {epoch}: {jnp.mean(pretrain_loss)}\")\n"
      ]
    },
    {
      "cell_type": "markdown",
      "metadata": {
        "id": "2i1oN_gQhsCo"
      },
      "source": [
        "**Task 7** What did you observe? What does the loss value tell you about the average relationship of the compared embeddings? How useful would you expect the learned embeddings to be on unseen data?"
      ]
    },
    {
      "cell_type": "markdown",
      "metadata": {
        "id": "RNAzVkBqhwGu"
      },
      "source": [
        "**Answer** The sign of loss became negative. Since the cosine similarity of positive samples is positive and close to 1, and the contrastive loss is the mean of minus cosine similarities, the loss is resonably close to -1."
      ]
    },
    {
      "cell_type": "markdown",
      "metadata": {
        "id": "qGeyeeUD7RPc",
        "tags": []
      },
      "source": [
        "There are actually some more recent methods that *do* manage to use only positive pairs, without encoutering the problem you saw happen above. If you're interested how, look at one of these: [BYOL](http://arxiv.org/abs/2006.07733), [Barlow Twins](https://arxiv.org/abs/2103.03230), [SimSiam](https://arxiv.org/abs/2011.10566)"
      ]
    },
    {
      "cell_type": "markdown",
      "metadata": {
        "id": "YyDYu7gWdPfI"
      },
      "source": [
        "## Linear evaluation - How good are the features we learned?\n",
        "\n",
        "To judge how good the features are that we learned, we want to test how useful they are for performing the task we actually care about. For this, we use the **linear evaluation** protocol. We take the trained model, discard the projection head and freeze all the model weights. We then add a single linear layer to perform our prediction task and evaluate its performance.\n",
        "\n",
        "In JAX, freezing the weights is currently done by setting the gradients to zero. We have implemented that as part of create_train_state, so you will not see it in the code below."
      ]
    },
    {
      "cell_type": "code",
      "execution_count": null,
      "metadata": {
        "id": "O2LP40Mu52LQ",
        "colab": {
          "base_uri": "https://localhost:8080/"
        },
        "outputId": "c126b7d6-73a5-4db1-f9fc-465e9d28320d"
      },
      "outputs": [
        {
          "output_type": "execute_result",
          "data": {
            "text/plain": [
              "((8, 10), dtype('float32'))"
            ]
          },
          "metadata": {},
          "execution_count": 26
        }
      ],
      "source": [
        "# Source: https://www.kaggle.com/code/roguekk007/flax-model-surgery\n",
        "\n",
        "class AddClassificationLayerToBackbone(nn.Module):\n",
        "    backbone : nn.Sequential\n",
        "    num_classes : int\n",
        "\n",
        "    def setup(self):\n",
        "        self.head = nn.Dense(self.num_classes)\n",
        "\n",
        "    def __call__(self, x):\n",
        "        x = self.backbone(x)\n",
        "        return self.head(x)\n",
        "\n",
        "backbone = encoder_with_proj_head.encoder\n",
        "finetune_model = AddClassificationLayerToBackbone(backbone=backbone,\n",
        "                                                  num_classes=10)\n",
        "\n",
        "random_key_3, subkey = jax.random.split(random_key_2)\n",
        "finetune_params = finetune_model.init(subkey, dummy_input)\n",
        "\n",
        "# Note: This unfreeze has nothing to do with the notion of freezing parameters.\n",
        "# It only allows us to write into an otherwise write-protected FrozenDict.\n",
        "finetune_params = unfreeze(finetune_params)\n",
        "\n",
        "# Overwrite the randomly initialized parameters with the ones we got from pretraining\n",
        "finetune_params['params']['backbone'] = pretrain_state.params[\"encoder\"]\n",
        "finetune_params['batch_stats']['backbone'] = pretrain_state.batch_stats[\"encoder\"]\n",
        "finetune_params = freeze(finetune_params)\n",
        "\n",
        "# Test whether everything works\n",
        "output = finetune_model.apply(finetune_params, dummy_input, mutable=False)\n",
        "output.shape, output.dtype"
      ]
    },
    {
      "cell_type": "markdown",
      "metadata": {
        "id": "DXN3KSdj-oZN"
      },
      "source": [
        "### Finetune the model's last layer"
      ]
    },
    {
      "cell_type": "code",
      "execution_count": null,
      "metadata": {
        "id": "fS57etKU_XGq",
        "colab": {
          "base_uri": "https://localhost:8080/"
        },
        "outputId": "7b7ddef9-d53d-4bb0-c82e-9ba3553ed592"
      },
      "outputs": [
        {
          "output_type": "stream",
          "name": "stderr",
          "text": [
            "100%|██████████| 4/4 [00:10<00:00,  2.61s/it, train_loss=2.43, train_acc=0.06896552]\n"
          ]
        },
        {
          "output_type": "stream",
          "name": "stdout",
          "text": [
            "Epoch 0: train loss 2.48, train accuracy 0.10\n"
          ]
        },
        {
          "output_type": "stream",
          "name": "stderr",
          "text": [
            "100%|██████████| 79/79 [00:05<00:00, 13.95it/s, val_loss=2.44, val_acc=0.125]\n"
          ]
        },
        {
          "output_type": "stream",
          "name": "stdout",
          "text": [
            "Epoch 0: val loss: 2.38, val accuracy: 0.13\n",
            "\n"
          ]
        },
        {
          "output_type": "stream",
          "name": "stderr",
          "text": [
            "100%|██████████| 4/4 [00:00<00:00,  7.79it/s, train_loss=2.31, train_acc=0.1637931]\n"
          ]
        },
        {
          "output_type": "stream",
          "name": "stdout",
          "text": [
            "Epoch 1: train loss 2.33, train accuracy 0.16\n"
          ]
        },
        {
          "output_type": "stream",
          "name": "stderr",
          "text": [
            "100%|██████████| 79/79 [00:01<00:00, 52.98it/s, val_loss=2.43, val_acc=0.25]\n"
          ]
        },
        {
          "output_type": "stream",
          "name": "stdout",
          "text": [
            "Epoch 1: val loss: 2.26, val accuracy: 0.19\n",
            "\n"
          ]
        },
        {
          "output_type": "stream",
          "name": "stderr",
          "text": [
            "100%|██████████| 4/4 [00:00<00:00,  7.63it/s, train_loss=2.13, train_acc=0.25862068]\n"
          ]
        },
        {
          "output_type": "stream",
          "name": "stdout",
          "text": [
            "Epoch 2: train loss 2.14, train accuracy 0.24\n"
          ]
        },
        {
          "output_type": "stream",
          "name": "stderr",
          "text": [
            "100%|██████████| 79/79 [00:01<00:00, 51.78it/s, val_loss=2.41, val_acc=0.188]\n"
          ]
        },
        {
          "output_type": "stream",
          "name": "stdout",
          "text": [
            "Epoch 2: val loss: 2.17, val accuracy: 0.23\n",
            "\n"
          ]
        },
        {
          "output_type": "stream",
          "name": "stderr",
          "text": [
            "100%|██████████| 4/4 [00:00<00:00,  7.61it/s, train_loss=2, train_acc=0.36206895]\n"
          ]
        },
        {
          "output_type": "stream",
          "name": "stdout",
          "text": [
            "Epoch 3: train loss 2.01, train accuracy 0.30\n"
          ]
        },
        {
          "output_type": "stream",
          "name": "stderr",
          "text": [
            "100%|██████████| 79/79 [00:01<00:00, 54.87it/s, val_loss=2.39, val_acc=0.25]\n"
          ]
        },
        {
          "output_type": "stream",
          "name": "stdout",
          "text": [
            "Epoch 3: val loss: 2.12, val accuracy: 0.25\n",
            "\n"
          ]
        },
        {
          "output_type": "stream",
          "name": "stderr",
          "text": [
            "100%|██████████| 4/4 [00:00<00:00,  7.74it/s, train_loss=1.91, train_acc=0.3275862]\n"
          ]
        },
        {
          "output_type": "stream",
          "name": "stdout",
          "text": [
            "Epoch 4: train loss 1.91, train accuracy 0.32\n"
          ]
        },
        {
          "output_type": "stream",
          "name": "stderr",
          "text": [
            "100%|██████████| 79/79 [00:01<00:00, 53.94it/s, val_loss=2.4, val_acc=0.25]\n"
          ]
        },
        {
          "output_type": "stream",
          "name": "stdout",
          "text": [
            "Epoch 4: val loss: 2.12, val accuracy: 0.25\n",
            "\n"
          ]
        }
      ],
      "source": [
        "supervised_train_dataloader = NumpyLoader(supervised_dataset_1p, batch_size=128)\n",
        "val_dataloader = NumpyLoader(val_dataset, batch_size=128)\n",
        "\n",
        "finetune_config = {\"learning_rate\": 0.01, \"momentum\": 0.9}\n",
        "finetune_state = create_train_state(finetune_model, finetune_params, finetune_config, freeze_encoder=True)\n",
        "\n",
        "for epoch in range(5):\n",
        "  finetune_state, train_loss, train_acc = supervised_epoch(state=finetune_state, train_dl=supervised_train_dataloader)\n",
        "  print(f\"Epoch {epoch}: train loss {train_loss:.2f}, train accuracy {train_acc:.2f}\")\n",
        "\n",
        "  val_loss, val_acc = compute_validation_performance(finetune_state, val_dataloader)\n",
        "  print(f\"Epoch {epoch}: val loss: {val_loss:.2f}, val accuracy: {val_acc:.2f}\\n\")"
      ]
    },
    {
      "cell_type": "markdown",
      "metadata": {
        "id": "cmGce4T4BWZJ"
      },
      "source": [
        "## Comparison to other methods\n",
        "\n",
        "How well did our self-supervised training work? Below, you can see some values for comparison. All of them have only been run for a comparatively short time. The value in brackets indicates how many labeled images have been used in supervised training or supervised finetuning.\n",
        "- Linear evaluation from random initialization and from an ImageNet-pretrained model only train the final linear layer of the network for 5 epochs.\n",
        "- Fully supervised training starts from a randomly initialized network and trains the whole network for 5 epochs.\n",
        "- SimCLR trains for 20 epochs on the full unlabeled training dataset. Then, the final linear layer is trained for 5 epochs.\n",
        "\n",
        "| Method                                 \t| Test set accuracy \t|\n",
        "|----------------------------------------\t|-------------------\t|\n",
        "| Linear evaluation from random initialization (100% labels)         \t|     0.22              \t|\n",
        "| Linear evaluation from ImageNet pretraining (1% labels) |                    0.34                 \t|\n",
        "| Linear evaluation from ImageNet pretraining (100% labels) |                   0.41                 \t|\n",
        "| Full supervised training (1% labels)   \t|   0.33                \t|\n",
        "| Full supervised training (100% labels) \t|   0.57                \t|\n",
        "| SimCLR training (1% labels)   \t|    0.25               \t|\n",
        "| SimCLR training (100% labels)   \t|  0.33                 \t|"
      ]
    },
    {
      "cell_type": "markdown",
      "metadata": {
        "id": "xfP8qK4tqf2P"
      },
      "source": [
        "## Self-supervised learning: Great if you have few labels\n",
        "\n",
        "Using self-supervision, we can make use of unlabeled data that would be useless to supervised approaches. This way, we can often achieve much better performance than pure supervised learning would achieve, especially if the labeled dataset is comparatively small. Depending on the setting, self-supervised approaches can even perform better than pure supervised approaches without using any additional unlabeled data.\n",
        "\n",
        "**Task 8** In this exercise, the self-supervised model did not work as well as promised in the paper. Why is that? If you had access to any ressources you need, how would you change the setup to increase the performance and hopefully beat supervised training?"
      ]
    },
    {
      "cell_type": "markdown",
      "metadata": {
        "id": "yuQ-t5o4z_MW"
      },
      "source": [
        "**Answer**\n",
        "The number of training epochs is too small to achieve a better rusult. The amount of training data might also be a reason for worse performance."
      ]
    },
    {
      "cell_type": "markdown",
      "metadata": {
        "id": "6IWWfgplJimF"
      },
      "source": [
        "**Task 9** How long did it take you to complete this practical? This information is valuable to us to balance the difficulty of different practicals."
      ]
    },
    {
      "cell_type": "markdown",
      "metadata": {
        "id": "cjrFKhgGJlhm"
      },
      "source": [
        "**Answer** It took me 5 hours to do this practical assignment"
      ]
    },
    {
      "cell_type": "markdown",
      "metadata": {
        "id": "qHSIxSRCeGzh"
      },
      "source": [
        "# References\n",
        "[1] [Chen, Ting, et al. \"A simple framework for contrastive learning of visual representations.\" International conference on machine learning. PMLR, 2020.](https://proceedings.mlr.press/v119/chen20j.html)"
      ]
    }
  ],
  "metadata": {
    "colab": {
      "provenance": [],
      "gpuType": "T4"
    },
    "kernelspec": {
      "display_name": "Python 3",
      "name": "python3"
    },
    "language_info": {
      "codemirror_mode": {
        "name": "ipython",
        "version": 3
      },
      "file_extension": ".py",
      "mimetype": "text/x-python",
      "name": "python",
      "nbconvert_exporter": "python",
      "pygments_lexer": "ipython3",
      "version": "3.10.4"
    },
    "accelerator": "GPU"
  },
  "nbformat": 4,
  "nbformat_minor": 0
}