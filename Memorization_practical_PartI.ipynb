{
  "cells": [
    {
      "cell_type": "markdown",
      "metadata": {
        "id": "560c8952-98a7-4819-8063-2409924ef142"
      },
      "source": [
        "# Part I - Deep neural networks can fit arbitrary labellings of the training data\n",
        "\n",
        "The mechanisms governing hypothesis selection in deep learning are currently not fully understood.\n",
        "\n",
        "According to traditional machine learning, a large hypothesis class (e.g. corresponding to overparameterized models) can fit several datasets of increasing complexity, which practically leads to overfitting training data and noise within. However, in practice, deep networks are able to achieve state-of-the-art performance on several benchmarks, thereby learning generalizing solutions. At the same time, weakly regularized networks can fit arbitrary labellings of the dataset, showing that stochastic optimization, coupled with overparameterization, can in principle memorize a dataset.\n",
        "\n",
        "A paramount question is thus what factors govern learning vs memorization, and why large, overparameterized networks don't simply memorize the training dataset?\n",
        "\n",
        "In this assignment, we are going to explore established phenomena that set deep networks aside from traditional machine learning, so that you familiarize yourself with some fundamental open questions in deep learning."
      ],
      "id": "560c8952-98a7-4819-8063-2409924ef142"
    },
    {
      "cell_type": "code",
      "source": [
        "from google.colab import drive\n",
        "drive.mount('/content/drive')"
      ],
      "metadata": {
        "colab": {
          "base_uri": "https://localhost:8080/"
        },
        "id": "EtdwU-7rfBuK",
        "outputId": "e22baa16-8216-4cb4-e7a4-7f501ff3fefd"
      },
      "execution_count": null,
      "outputs": [
        {
          "output_type": "stream",
          "name": "stdout",
          "text": [
            "Mounted at /content/drive\n"
          ]
        }
      ],
      "id": "EtdwU-7rfBuK"
    },
    {
      "cell_type": "code",
      "source": [
        "!jupyter nbconvert --to latex '/content/drive/MyDrive/Colab Notebooks/Memorization practical_PartI.ipynb' --output '/content/drive/MyDrive/DL_advance/practical3/Memorization practical_PartI.tex'"
      ],
      "metadata": {
        "colab": {
          "base_uri": "https://localhost:8080/"
        },
        "id": "92nuPFceeUqm",
        "outputId": "8042560c-3beb-4405-8bf6-298d084fbaf2"
      },
      "execution_count": null,
      "outputs": [
        {
          "output_type": "stream",
          "name": "stdout",
          "text": [
            "[NbConvertApp] Converting notebook /content/drive/MyDrive/Colab Notebooks/Memorization practical_PartI.ipynb to latex\n",
            "[NbConvertApp] Support files will be in /content/drive/MyDrive/DL_advance/practical3/Memorization practical_PartI_files/\n",
            "[NbConvertApp] Making directory /content/drive/MyDrive/DL_advance/practical3\n",
            "[NbConvertApp] Writing 110716 bytes to /content/drive/MyDrive/DL_advance/practical3/Memorization practical_PartI.tex\n"
          ]
        }
      ],
      "id": "92nuPFceeUqm"
    },
    {
      "cell_type": "markdown",
      "metadata": {
        "id": "abd4b59d-7f9e-4583-8140-5825bb85729b"
      },
      "source": [
        "![Hypothesis selection in deep learning?](figs/novak_et_al_implicit_reg.png \"Novak et al. Implicit regularization conjecture\")\n",
        "\n",
        "|                                                                         |\n",
        "| ----------------------------------------------------------------------: |\n",
        "| Source: [Novak et al. (2018)](https://openreview.net/forum?id=HJC2SzZCW) |\n"
      ],
      "id": "abd4b59d-7f9e-4583-8140-5825bb85729b"
    },
    {
      "cell_type": "markdown",
      "metadata": {
        "id": "71199180-dd2c-4775-98a6-f2cb8ed22acf"
      },
      "source": [
        "## Introduction\n",
        "\n",
        "In part I, we explore hypothesis selection in deep learning for image classification, by contrasting \"learning\" and \"memorization\".\n",
        "\n",
        "Basically, we examine the empirical behaviour of deep networks trained to perfectly fit noisy labels, as a way to force the model to represent complex decision boundaries. Further, we empirically demonstrate that large networks are capable of completely overfitting a dataset [Zhang et al. (2017)](https://arxiv.org/abs/1611.03530).\n",
        "\n",
        "Importantly, corrupting every training label disrupts the semantic relationship between input images and classes, forcing the network to learn decision boundaries tailored to each individual training sample. This will constitute our operative definition of high-complexity classifier *memorizing* the training set. Changing the ratio of noisy labels allows us to control complexity of our trained statistical model.\n",
        "\n",
        "In the first part of the assignment, we are going to implement the basic building blocks for our experiments, by reproducing the main result of [Zhang et al. (2017)](https://arxiv.org/abs/1611.03530).\n",
        "\n",
        "## Tasks\n",
        "\n",
        "Your tasks for this part of the assignment include:\n",
        "1. Corrupting labels of the CIFAR-10 training set.\n",
        "2. Training a small ResNet to fit corrupted labels.\n",
        "3. Discuss the effect of explicit regularization on memorization.\n",
        "4. Discuss implicit regularization in deep learning."
      ],
      "id": "71199180-dd2c-4775-98a6-f2cb8ed22acf"
    },
    {
      "cell_type": "code",
      "execution_count": null,
      "metadata": {
        "id": "e7d7f722-2326-489a-8b4e-fd3d687b267c"
      },
      "outputs": [],
      "source": [
        "import jax\n",
        "import jax.numpy as jnp\n",
        "from flax import linen as nn\n",
        "from flax.training import train_state\n",
        "import optax\n",
        "\n",
        "import numpy as np\n",
        "from numpy.random import default_rng\n",
        "\n",
        "import torch\n",
        "from torchvision.datasets import CIFAR10\n",
        "from torchvision import transforms\n",
        "import PIL.Image\n",
        "\n",
        "from typing import Any, Callable, Sequence, Tuple\n",
        "from functools import partial\n",
        "import random\n",
        "import os\n",
        "from glob import glob\n",
        "\n",
        "import matplotlib.pyplot as plt"
      ],
      "id": "e7d7f722-2326-489a-8b4e-fd3d687b267c"
    },
    {
      "cell_type": "code",
      "source": [
        "from google.colab import drive\n",
        "drive.mount('/content/drive')"
      ],
      "metadata": {
        "colab": {
          "base_uri": "https://localhost:8080/"
        },
        "id": "dBMQX4EsQ2yG",
        "outputId": "5bf637fc-6c91-4b1b-85a7-c58450999b7a"
      },
      "id": "dBMQX4EsQ2yG",
      "execution_count": null,
      "outputs": [
        {
          "output_type": "stream",
          "name": "stdout",
          "text": [
            "Mounted at /content/drive\n"
          ]
        }
      ]
    },
    {
      "cell_type": "code",
      "execution_count": null,
      "metadata": {
        "id": "a4571ea6-8fd1-4502-a005-712dfd9fef9b",
        "tags": []
      },
      "outputs": [],
      "source": [
        "os.environ['JAX_PLATFORM_NAME'] = 'gpu'\n",
        "# If running the notebook fails with OOM errors, please consider uncommenting the following line.\n",
        "# os.environ['XLA_PYTHON_CLIENT_ALLOCATOR'] = 'platform'\n",
        "# If the notebook is failing at the very beginning with OOM errors, uncomment the following line,\n",
        "# and tune the amout of preallocated memory according to your system.\n",
        "# os.environ['XLA_PYTHON_CLIENT_MEM_FRACTION'] = '.80'\n",
        "\"\"\"\n",
        "==============================\n",
        "TODO: Configuration required.\n",
        "==============================\n",
        "Edit below to set your path to CIFAR-10 and the destination directory for saving checkpoints\n",
        "In case you don't have a local copy of the dataset, it will be downloaded automatically.\n",
        "\"\"\"\n",
        "data_dir = \"./data\" # path to cifar-10-batches-py\n",
        "checkpoints_dir = \"/content/drive/MyDrive/DL_advance/checkpoints\"\n",
        "\n",
        "\n",
        "assert os.path.exists(checkpoints_dir),\\\n",
        "    \"The path you provided does not exitst!\"\\\n",
        "    \" Consider creating the folder manually.\"\n"
      ],
      "id": "a4571ea6-8fd1-4502-a005-712dfd9fef9b"
    },
    {
      "cell_type": "markdown",
      "metadata": {
        "id": "2c6177fc-44a1-4d2e-91ea-2ca9d8b867c4"
      },
      "source": [
        "The focus of this assignment is on *implicit regularization* [[Neyshabur, Tomioka, and Srebro (2015)](https://openreview.net/forum?id=6AzZb_7Qo0e)], namely that controlled by priors induced by the network architecture, optimizer, as well as the training data itself. Hence, we are going to disable all explicit regularization like weight decay, data augmentation, and batch normalization."
      ],
      "id": "2c6177fc-44a1-4d2e-91ea-2ca9d8b867c4"
    },
    {
      "cell_type": "code",
      "execution_count": null,
      "metadata": {
        "id": "fa178a90-413d-4b71-aac4-946ed78f7a94",
        "tags": []
      },
      "outputs": [],
      "source": [
        "\"\"\"\n",
        "Training hyperparameters\n",
        "==============================\n",
        "TODO: Configuration required.\n",
        "==============================\n",
        "Set the training hyperparameters by:\n",
        "1. Disabling explicit regularization\n",
        "2. Configuring the hyperparameters that control the learning rate schedule\n",
        "   described in Zhang et al. (2017). Specifically, a starting learning rate of\n",
        "   0.1 is decayed by a multiplicative factor of 0.95 at every epoch.\n",
        "3. To cap the computational cost of this assignment, we set a max number of epochs\n",
        "   to 100.\n",
        "4. In this assignment, we will explore how a deep network can fit arbitrary labelling of the data,\n",
        "   so we set the noise_ratio to 1.0\n",
        "\"\"\"\n",
        "cifar10_mean = (0.4919, 0.4822, 0.4465)\n",
        "cifar10_std = (0.2023, 0.1994, 0.2010)\n",
        "num_classes = 10\n",
        "\n",
        "seed = 42\n",
        "enable_augmentation = False # bool\n",
        "enable_batch_norm = False # bool\n",
        "batch_size = 128# int\n",
        "noise_ratio = 1.0 # float between 0. and 1.\n",
        "weight_decay = 0 # float\n",
        "lr =  0.1# float\n",
        "lr_decay = 0.95 # float\n",
        "lr_step = 1 # int\n",
        "max_epochs = 100 # int"
      ],
      "id": "fa178a90-413d-4b71-aac4-946ed78f7a94"
    },
    {
      "cell_type": "code",
      "execution_count": null,
      "metadata": {
        "id": "8eac78af-ef79-4589-a53d-6fbd808910eb"
      },
      "outputs": [],
      "source": [
        "# Data loading utilities\n",
        "def numpy_collate(batch):\n",
        "    \"\"\"Collate batch into a single numpy.ndarray\"\"\"\n",
        "    if isinstance(batch[0], np.ndarray):\n",
        "        return np.stack(batch)\n",
        "    elif isinstance(batch[0], (tuple,list)):\n",
        "        transposed = zip(*batch)\n",
        "        return [numpy_collate(samples) for samples in transposed]\n",
        "    else:\n",
        "        return np.array(batch)\n",
        "\n",
        "\n",
        "class NumpyLoader(torch.utils.data.DataLoader):\n",
        "    \"\"\"Numpy dataloader subclassing pytorch's data loader\"\"\"\n",
        "    def __init__(self, dataset, batch_size=1,\n",
        "                  shuffle=False, sampler=None,\n",
        "                  batch_sampler=None, num_workers=0,\n",
        "                  pin_memory=False, drop_last=False,\n",
        "                  timeout=0, worker_init_fn=None):\n",
        "        super(self.__class__, self).__init__(dataset,\n",
        "            batch_size=batch_size,\n",
        "            shuffle=shuffle,\n",
        "            sampler=sampler,\n",
        "            batch_sampler=batch_sampler,\n",
        "            num_workers=num_workers,\n",
        "            collate_fn=numpy_collate,\n",
        "            pin_memory=pin_memory,\n",
        "            drop_last=drop_last,\n",
        "            timeout=timeout,\n",
        "            worker_init_fn=worker_init_fn)\n",
        "\n",
        "\n",
        "# Transforms\n",
        "class ArrayNormalize(torch.nn.Module):\n",
        "    def __init__(self, mean, std):\n",
        "        super().__init__()\n",
        "        self.mean = mean\n",
        "        self.std = std\n",
        "\n",
        "    def __call__(self, arr: np.ndarray) -> np.ndarray:\n",
        "        assert isinstance(arr, np.ndarray), \"Input should be ndarray, got {}.\".format(type(arr))\n",
        "        assert arr.ndim >= 3, \"Expected array to be image of size (*, H, W, C). Got {}.\".format(arr.shape)\n",
        "\n",
        "        dtype = arr.dtype\n",
        "        mean = np.asarray(self.mean, dtype=dtype)\n",
        "        std = np.asarray(self.std, dtype=dtype)\n",
        "        if (std == 0).any():\n",
        "            raise ValueError(\"std evaluated to zero after conversion to {}\".format(dtype))\n",
        "        if mean.ndim == 1:\n",
        "            mean = mean.reshape(1, 1, -1)\n",
        "        if std.ndim == 1:\n",
        "            std = std.reshape(1, 1, -1)\n",
        "        arr -= mean\n",
        "        arr /= std\n",
        "        return arr\n",
        "\n",
        "\n",
        "class ToArray(torch.nn.Module):\n",
        "    dtype = np.float32\n",
        "\n",
        "    def __call__(self, x):\n",
        "        assert isinstance(x, PIL.Image.Image)\n",
        "        x = np.asarray(x, dtype=self.dtype)\n",
        "        x /= 255.0\n",
        "        return x\n",
        "\n",
        "if enable_augmentation:\n",
        "    transform_train = transforms.Compose([\n",
        "        transforms.RandomCrop(32, padding=4),\n",
        "        transforms.RandomHorizontalFlip(),\n",
        "        ToArray(),\n",
        "        ArrayNormalize(cifar10_mean, cifar10_std)])\n",
        "else:\n",
        "    transform_train = transforms.Compose([\n",
        "        ToArray(),\n",
        "        ArrayNormalize(cifar10_mean, cifar10_std)])\n",
        "\n",
        "transform_test = transforms.Compose([\n",
        "    ToArray(),\n",
        "    ArrayNormalize(cifar10_mean, cifar10_std)])\n"
      ],
      "id": "8eac78af-ef79-4589-a53d-6fbd808910eb"
    },
    {
      "cell_type": "code",
      "execution_count": null,
      "metadata": {
        "id": "1b62018c-d22d-48a4-9dc1-48a215e57928",
        "colab": {
          "base_uri": "https://localhost:8080/"
        },
        "outputId": "cfdaf4b4-1042-4b07-e8ee-1e22ef70df31"
      },
      "outputs": [
        {
          "output_type": "stream",
          "name": "stdout",
          "text": [
            "Files already downloaded and verified\n",
            "Files already downloaded and verified\n"
          ]
        }
      ],
      "source": [
        "# load CIFAR-10\n",
        "cifar10_train = CIFAR10(data_dir, download=True, transform=transform_train, train=True)\n",
        "cifar10_test = CIFAR10(data_dir, download=True, transform=transform_test, train=False)"
      ],
      "id": "1b62018c-d22d-48a4-9dc1-48a215e57928"
    },
    {
      "cell_type": "code",
      "execution_count": null,
      "metadata": {
        "id": "43899143-1e81-4701-a3bd-87f0f6d58251"
      },
      "outputs": [],
      "source": [
        "def corrupt_labels(dataset, noise_ratio, seed=36912):\n",
        "    \"\"\"\n",
        "    Corrupt dataset labels\n",
        "    ==============================\n",
        "    TODO: Implementation required.\n",
        "    ==============================\n",
        "    * Replace a portion of the dataset labels (specificed by @noise_ratio) with random labels.\n",
        "      Random labels should be sampled uniformly, by also ensuring that the ground truth label is never\n",
        "      sampled. @noise_ratio is a float value between 0 and 1, denoting the ratio of corrupted labels.\n",
        "\n",
        "    Conveniently, the skeleton provided loads the labels from @dataset and sets them after corruption.\n",
        "    A check is in place to test whether your implementation is correct.\n",
        "    \"\"\"\n",
        "    if noise_ratio == 0.:\n",
        "        return\n",
        "    assert 0. <= noise_ratio <= 1., \\\n",
        "        \"noise_ratio should be a value between 0 and 1. Got {}\".format(noise_ratio)\n",
        "    rng = jax.random.PRNGKey(seed) # set seed for reproducibility\n",
        "\n",
        "    labels = np.array(dataset.targets)\n",
        "    num_classes = len(dataset.classes)\n",
        "    num_samples = len(labels)\n",
        "    num_corrupted = int(noise_ratio * num_samples)\n",
        "\n",
        "    random_labels = np.random.randint(0,num_classes,(num_samples,))\n",
        "\n",
        "    random_labels[np.where(random_labels==labels)] = random_labels[np.where(random_labels==labels)]+1\n",
        "\n",
        "\n",
        "\n",
        "    # set corrupted labels\n",
        "    dataset.targets = random_labels.tolist()\n",
        "\n"
      ],
      "id": "43899143-1e81-4701-a3bd-87f0f6d58251"
    },
    {
      "cell_type": "markdown",
      "metadata": {
        "id": "C_IyxcpaFkPo"
      },
      "source": [
        "Test the `corrupt_labels` function:"
      ],
      "id": "C_IyxcpaFkPo"
    },
    {
      "cell_type": "code",
      "execution_count": null,
      "metadata": {
        "id": "5ATuqL8-Fby1",
        "colab": {
          "base_uri": "https://localhost:8080/"
        },
        "outputId": "8f5a1405-0527-45db-aecf-3a72260d5fac"
      },
      "outputs": [
        {
          "output_type": "stream",
          "name": "stdout",
          "text": [
            "1.0\n"
          ]
        }
      ],
      "source": [
        "# test how many labels were corrupted\n",
        "orig_labels = cifar10_train.targets.copy()\n",
        "\n",
        "corrupt_labels(cifar10_train, noise_ratio=noise_ratio)\n",
        "\n",
        "corrupted = np.float64(np.sum(np.array(orig_labels) != np.array(cifar10_train.targets)) / len(orig_labels))\n",
        "expected = np.float64(noise_ratio)\n",
        "print(corrupted)\n",
        "np.testing.assert_allclose(corrupted, expected, verbose=True, rtol=1e-2,\n",
        "    err_msg=\"Effectively corrupted {}% labels, but {}% required\".format(corrupted *100, expected * 100))\n",
        "\n",
        "# undo the changes\n",
        "cifar10_train.targets = orig_labels"
      ],
      "id": "5ATuqL8-Fby1"
    },
    {
      "cell_type": "code",
      "execution_count": null,
      "metadata": {
        "id": "4c6c0109-f2a1-495e-be79-3ca52aebb2aa",
        "colab": {
          "base_uri": "https://localhost:8080/"
        },
        "outputId": "7d08f7da-d027-4b8d-b029-3a52bcb5ed6c"
      },
      "outputs": [
        {
          "output_type": "stream",
          "name": "stderr",
          "text": [
            "/usr/local/lib/python3.10/dist-packages/torch/utils/data/dataloader.py:557: UserWarning: This DataLoader will create 4 worker processes in total. Our suggested max number of worker in current system is 2, which is smaller than what this DataLoader is going to create. Please be aware that excessive worker creation might get DataLoader running slow or even freeze, lower the worker number to avoid potential slowness/freeze if necessary.\n",
            "  warnings.warn(_create_warning_msg(\n"
          ]
        }
      ],
      "source": [
        "# corrupt training labels\n",
        "corrupt_labels(cifar10_train, noise_ratio=noise_ratio)\n",
        "\n",
        "# set seed for reproducibilty\n",
        "torch.manual_seed(seed)\n",
        "random.seed(seed)\n",
        "# instantiate data loaders\n",
        "train_loader = NumpyLoader(cifar10_train, batch_size=batch_size, shuffle=True, drop_last=True, num_workers=4)\n",
        "test_loader = NumpyLoader(cifar10_test, batch_size=2*batch_size, num_workers=4)"
      ],
      "id": "4c6c0109-f2a1-495e-be79-3ca52aebb2aa"
    },
    {
      "cell_type": "code",
      "execution_count": null,
      "metadata": {
        "id": "ed55dc19-efa1-4e66-afff-836c6b7193a8"
      },
      "outputs": [],
      "source": [
        "# ResNet model definition\n",
        "ModuleDef = Any\n",
        "\n",
        "class ResNetBlock(nn.Module):\n",
        "    \"\"\"ResNet basic block\"\"\"\n",
        "    filters: int\n",
        "    conv: ModuleDef\n",
        "    norm: ModuleDef\n",
        "    act: Callable\n",
        "    strides: Tuple[int,int] = (1,1)\n",
        "\n",
        "    @nn.compact\n",
        "    def __call__(self, x):\n",
        "        residual = x\n",
        "        y = self.conv(self.filters, (3,3), self.strides)(x)\n",
        "        if self.norm is not None:\n",
        "            y = self.norm()(y)\n",
        "        y = self.act(y)\n",
        "        y = self.conv(self.filters, (3,3))(y)\n",
        "        if self.norm is not None:\n",
        "            y = self.norm(scale_init=nn.initializers.zeros)(y)\n",
        "\n",
        "        if residual.shape != y.shape:\n",
        "            residual = self.conv(self.filters, (1,1), self.strides, name='conv_proj')(residual)\n",
        "            if self.norm is not None:\n",
        "                residual = self.norm(name='norm_proj')(residual)\n",
        "\n",
        "        return self.act(residual + y)\n",
        "\n",
        "\n",
        "class BottleneckBlock(nn.Module):\n",
        "    \"\"\"Bottleneck residual block\"\"\"\n",
        "    filters: int\n",
        "    conv: ModuleDef\n",
        "    norm: ModuleDef\n",
        "    act: Callable\n",
        "    strides: Tuple[int, int] = (1, 1)\n",
        "\n",
        "    @nn.compact\n",
        "    def __call__(self, x):\n",
        "        residual = x\n",
        "        y = self.conv(self.filters, (1,1))(x)\n",
        "        if self.norm is not None:\n",
        "            y = self.norm()(y)\n",
        "        y = self.act(y)\n",
        "        y = self.conv(self.filters, (3, 3), self.strides)(y)\n",
        "        if self.norm is not None:\n",
        "            y = self.norm()(y)\n",
        "        y = self.act(y)\n",
        "        y = self.conv(self.filters * 4, (1,1))(y)\n",
        "        if self.norm is not None:\n",
        "            y = self.norm(scale_init=nn.initializers.zeros)(y)\n",
        "\n",
        "        if residual.shape != y.shape:\n",
        "            residual = self.conv(self.filters * 4, (1, 1), self.strides, name='conv_proj')(residual)\n",
        "            if self.norm is not None:\n",
        "                residual = self.norm(name='norm_proj')(residual)\n",
        "\n",
        "        return self.act(residual + y)\n",
        "\n",
        "\n",
        "class ResNet(nn.Module):\n",
        "    \"\"\"ResNet v1\"\"\"\n",
        "    stage_sizes: Sequence[int]\n",
        "    block_cls: ModuleDef\n",
        "    num_classes: int = 10 # adapted to CIFAR-10\n",
        "    num_filters: int = 16 # reduced number of filters to decrease training time\n",
        "    dtype: Any = jnp.float32\n",
        "    act: Callable = nn.relu\n",
        "\n",
        "    def setup(self, enable_batch_norm=False):\n",
        "        self.enable_batch_norm = enable_batch_norm\n",
        "\n",
        "    @nn.compact\n",
        "    def __call__(self, x, train: bool = True):\n",
        "        conv = partial(nn.Conv, use_bias = not self.enable_batch_norm, dtype = self.dtype)\n",
        "        if self.enable_batch_norm:\n",
        "            norm = partial(nn.BatchNorm, use_running_average=not train, momentum=0.9, epsilon=1e-5, dtype=self.dtype)\n",
        "        else:\n",
        "            norm = None\n",
        "\n",
        "        x = conv(self.num_filters, (3,3), (1,1),\n",
        "                 padding='SAME', name='conv_init')(x)\n",
        "        if self.enable_batch_norm:\n",
        "            x = norm(name='bn_init')(x)\n",
        "        x = nn.relu(x)\n",
        "        x = nn.max_pool(x, (2, 2), strides=(2, 2), padding='SAME')\n",
        "        for i, block_size in enumerate(self.stage_sizes):\n",
        "            for j in range(block_size):\n",
        "                strides = (2, 2) if i > 0 and j == 0 else (1, 1)\n",
        "                x = self.block_cls(self.num_filters * 2 ** i,\n",
        "                                   strides=strides,\n",
        "                                   conv=conv,\n",
        "                                   norm=norm,\n",
        "                                   act=self.act)(x)\n",
        "        x = jnp.mean(x, axis=(1, 2))\n",
        "        x = nn.Dense(self.num_classes, dtype=self.dtype)(x)\n",
        "        x = jnp.asarray(x, self.dtype)\n",
        "        return x\n",
        "\n",
        "ResNet18 = partial(ResNet, stage_sizes=[2, 2, 2, 2], block_cls=ResNetBlock)"
      ],
      "id": "ed55dc19-efa1-4e66-afff-836c6b7193a8"
    },
    {
      "cell_type": "markdown",
      "metadata": {
        "id": "3ddfba0b-a055-4423-965c-29d9409aee5c"
      },
      "source": [
        "Next, we define the training loop as well as some utilty functions. We will train the network until 100% training accuracy is reached, or for a maximum of ``max_epochs``, to cap the computational cost of this exercise.\n",
        "\n",
        "Your tasks are:\n",
        "1. Implement an exponential learning rate schedule.\n",
        "2. Compute and store training (and validation) loss and accuracy.\n",
        "3. Implement the convergence criterion.\n",
        "4. Train ResNet-18 until the convergence criterion is met."
      ],
      "id": "3ddfba0b-a055-4423-965c-29d9409aee5c"
    },
    {
      "cell_type": "markdown",
      "metadata": {
        "id": "JrxL_FcK9Nqv"
      },
      "source": [
        "## Training Utilities"
      ],
      "id": "JrxL_FcK9Nqv"
    },
    {
      "cell_type": "code",
      "execution_count": null,
      "metadata": {
        "id": "_v1PgSww9LWU"
      },
      "outputs": [],
      "source": [
        "def compute_metrics(logits, labels):\n",
        "    \"\"\"Given the model predictions @logits and ground-truth @labels compute\n",
        "       loss and accuracy.\n",
        "    ==============================\n",
        "    TODO: Implementation required.\n",
        "    ==============================\n",
        "    * Compute the average cross-entropy loss over a batch, using the unnormalized network\n",
        "       predictions @logits, and the ground-truth @labels.\n",
        "\n",
        "    * Before computing the cross-entropy loss, the logits should be normalized.\n",
        "      Hint: The optax package allows to apply both softmax and cross-entropy loss\n",
        "      to the logits at the same time.\n",
        "    * Finally, for computing the loss, each label should be 1-hot-encoded. You can use\n",
        "      ``jax.nn.one_hot()``.\n",
        "    \"\"\"\n",
        "\n",
        "\n",
        "    one_hot_labels = jax.nn.one_hot(labels, num_classes=logits.shape[-1])\n",
        "\n",
        "    loss = jnp.mean(optax.softmax_cross_entropy(logits,one_hot_labels))\n",
        "\n",
        "\n",
        "    predicted_labels = jnp.argmax(logits, axis=-1)\n",
        "    accuracy = jnp.mean(jnp.equal(predicted_labels, labels))\n",
        "\n",
        "    metrics = {\n",
        "        'loss': loss,\n",
        "        'accuracy': accuracy,\n",
        "    }\n",
        "    return metrics"
      ],
      "id": "_v1PgSww9LWU"
    },
    {
      "cell_type": "markdown",
      "metadata": {
        "id": "e1igMHpMaw7x"
      },
      "source": [
        "Test the `compute_metrics` function:"
      ],
      "id": "e1igMHpMaw7x"
    },
    {
      "cell_type": "code",
      "execution_count": null,
      "metadata": {
        "id": "EfoDzhMzaxlz"
      },
      "outputs": [],
      "source": [
        "logits = jnp.array([[1.,2.,0.,-1.],\n",
        "                    [0.,2.,-5.,1.],\n",
        "                    [1.,1.,5.,-1.]])\n",
        "labels = jnp.array([1,\n",
        "                    0,\n",
        "                    2])\n",
        "\n",
        "returned = compute_metrics(logits,labels)\n",
        "expected_mean_sce_loss = np.array(0.9622556)\n",
        "expected_mean_accuracy = np.array(0.6666666)\n",
        "\n",
        "assert returned['loss'].shape == (), \\\n",
        "    'softmax cross-entropy loss is expected here to be averaged over samples'\n",
        "assert returned['accuracy'].shape == (), \\\n",
        "    'accuracy is expected here to be averaged over samples'\n",
        "\n",
        "np.testing.assert_almost_equal(expected_mean_sce_loss, returned['loss'])\n",
        "np.testing.assert_almost_equal(expected_mean_accuracy, returned['accuracy'])"
      ],
      "id": "EfoDzhMzaxlz"
    },
    {
      "cell_type": "code",
      "execution_count": null,
      "metadata": {
        "id": "efdysgala8YX"
      },
      "outputs": [],
      "source": [
        "def get_lr_scheduler(base_lr, lr_step, lr_decay, steps_per_epoch):\n",
        "    \"\"\" Initialize learning rate scheduler\n",
        "    Parameters:\n",
        "        base_lr: initial learning rate\n",
        "        lr_step: number of training steps after which the learning rate is updated\n",
        "        lr_decay: learning rate update coefficient\n",
        "        steps_per_epoch: number of sgd steps in one training epoch\n",
        "\n",
        "    ==============================\n",
        "    TODO: Implementation required.\n",
        "    ==============================\n",
        "    Implement an exponential learning rate decay schedule, as proposed by Zhang et al. (2017) to fit\n",
        "    corrupted labels.\n",
        "\n",
        "    Hint: Look at the ``optax`` documentation for available learning\n",
        "    rate schedulers and how to use them.\n",
        "    \"\"\"\n",
        "\n",
        "    def lr_schedule(step):\n",
        "\n",
        "        current_lr = base_lr * (lr_decay ** (lr_step * step / steps_per_epoch))\n",
        "        return current_lr\n",
        "\n",
        "\n",
        "    return lr_schedule"
      ],
      "id": "efdysgala8YX"
    },
    {
      "cell_type": "markdown",
      "metadata": {
        "id": "nMUTlAVdbt_H"
      },
      "source": [
        "Test the `get_lr_scheduler` function:"
      ],
      "id": "nMUTlAVdbt_H"
    },
    {
      "cell_type": "code",
      "execution_count": null,
      "metadata": {
        "id": "V3AFYP8-buPl"
      },
      "outputs": [],
      "source": [
        "returned = get_lr_scheduler(1e-4, 100, 0.95, 5)\n",
        "assert callable(returned),\\\n",
        "    \"get_lr_scheduler function is expected to return another function that acts on the number of steps.\"\n",
        "expected_lr = np.array(1.2565852e-09)\n",
        "np.testing.assert_almost_equal(expected_lr, returned(11))"
      ],
      "id": "V3AFYP8-buPl"
    },
    {
      "cell_type": "code",
      "execution_count": null,
      "metadata": {
        "id": "cduMAeGdcpHG"
      },
      "outputs": [],
      "source": [
        "def stopping_criterion(accuracy):\n",
        "    \"\"\"Check whether 100% training accuracy is reached\n",
        "    ==============================\n",
        "    TODO: Implementation required.\n",
        "    ==============================\n",
        "    The method should return True if accuracy is close to 1.0, and False otherwise.\n",
        "    \"\"\"\n",
        "\n",
        "\n",
        "    return accuracy >= 0.999"
      ],
      "id": "cduMAeGdcpHG"
    },
    {
      "cell_type": "markdown",
      "metadata": {
        "id": "utvAkHvMc2Um"
      },
      "source": [
        "Test the `stopping_criterion` function:"
      ],
      "id": "utvAkHvMc2Um"
    },
    {
      "cell_type": "code",
      "execution_count": null,
      "metadata": {
        "id": "f-DKKwDic1--"
      },
      "outputs": [],
      "source": [
        "returned = stopping_criterion(.999)\n",
        "expected_lr = np.array(True)\n",
        "np.testing.assert_equal(expected_lr, returned)"
      ],
      "id": "f-DKKwDic1--"
    },
    {
      "cell_type": "code",
      "execution_count": null,
      "metadata": {
        "id": "0cd0cb72-7d44-4954-88e3-9ae6eba8aecf",
        "colab": {
          "base_uri": "https://localhost:8080/"
        },
        "outputId": "56d67cf7-8ea9-4949-ed70-125763d95211"
      },
      "outputs": [
        {
          "output_type": "stream",
          "name": "stdout",
          "text": [
            "Saving model checkpoint to /content/drive/MyDrive/DL_advance/checkpoints/resnet18_init.pickle.\n"
          ]
        },
        {
          "output_type": "stream",
          "name": "stderr",
          "text": [
            "<ipython-input-17-2086b1a21562>:24: DeprecationWarning: jax.tree_leaves is deprecated: use jax.tree_util.tree_leaves.\n",
            "  weight_penalty_params = jax.tree_leaves(params)\n"
          ]
        },
        {
          "output_type": "stream",
          "name": "stdout",
          "text": [
            "epoch: 0, train loss: 2.281069040298462, train accuracy: 0.10128205269575119\n",
            "epoch: 0, test loss: 2.307136058807373, test accuracy: 0.07343749701976776\n",
            "Saving model checkpoint to /content/drive/MyDrive/DL_advance/checkpoints/resnet18_0.pickle.\n",
            "epoch: 1, train loss: 2.278468132019043, train accuracy: 0.10470753163099289\n",
            "epoch: 2, train loss: 2.2778873443603516, train accuracy: 0.10356570780277252\n",
            "epoch: 3, train loss: 2.2763311862945557, train accuracy: 0.10681089758872986\n",
            "epoch: 4, train loss: 2.274714469909668, train accuracy: 0.11326121538877487\n",
            "epoch: 5, train loss: 2.272099494934082, train accuracy: 0.11652643978595734\n",
            "epoch: 6, train loss: 2.269775152206421, train accuracy: 0.11953125149011612\n",
            "epoch: 7, train loss: 2.265887975692749, train accuracy: 0.12524038553237915\n",
            "epoch: 8, train loss: 2.2619333267211914, train accuracy: 0.12902644276618958\n",
            "epoch: 9, train loss: 2.257892608642578, train accuracy: 0.1324719488620758\n",
            "epoch: 10, train loss: 2.252370595932007, train accuracy: 0.1356971114873886\n",
            "epoch: 10, test loss: 2.5465948581695557, test accuracy: 0.04355468600988388\n",
            "Saving model checkpoint to /content/drive/MyDrive/DL_advance/checkpoints/resnet18_10.pickle.\n",
            "epoch: 11, train loss: 2.244325637817383, train accuracy: 0.14401040971279144\n",
            "epoch: 12, train loss: 2.2352662086486816, train accuracy: 0.15026041865348816\n",
            "epoch: 13, train loss: 2.2241811752319336, train accuracy: 0.1580328494310379\n",
            "epoch: 14, train loss: 2.2100467681884766, train accuracy: 0.16588541865348816\n",
            "epoch: 15, train loss: 2.192060947418213, train accuracy: 0.1767427921295166\n",
            "epoch: 16, train loss: 2.1709702014923096, train accuracy: 0.18824118375778198\n",
            "epoch: 17, train loss: 2.1446373462677, train accuracy: 0.2017628252506256\n",
            "epoch: 18, train loss: 2.1149208545684814, train accuracy: 0.21454326808452606\n",
            "epoch: 19, train loss: 2.0804975032806396, train accuracy: 0.23221154510974884\n",
            "epoch: 20, train loss: 2.0386745929718018, train accuracy: 0.2512219548225403\n",
            "epoch: 20, test loss: 2.9304449558258057, test accuracy: 0.05068359524011612\n",
            "Saving model checkpoint to /content/drive/MyDrive/DL_advance/checkpoints/resnet18_20.pickle.\n",
            "epoch: 21, train loss: 1.9922529458999634, train accuracy: 0.2715144157409668\n",
            "epoch: 22, train loss: 1.947725772857666, train accuracy: 0.28842148184776306\n",
            "epoch: 23, train loss: 1.8889126777648926, train accuracy: 0.3138020932674408\n",
            "epoch: 24, train loss: 1.8399488925933838, train accuracy: 0.33028846979141235\n",
            "epoch: 25, train loss: 1.7762593030929565, train accuracy: 0.3591145873069763\n",
            "epoch: 26, train loss: 1.7128286361694336, train accuracy: 0.3809495270252228\n",
            "epoch: 27, train loss: 1.6444222927093506, train accuracy: 0.40629005432128906\n",
            "epoch: 28, train loss: 1.5641448497772217, train accuracy: 0.439823716878891\n",
            "epoch: 29, train loss: 1.5105394124984741, train accuracy: 0.4583533704280853\n",
            "epoch: 30, train loss: 1.429579257965088, train accuracy: 0.4855569005012512\n",
            "epoch: 30, test loss: 4.279019355773926, test accuracy: 0.05615234375\n",
            "Saving model checkpoint to /content/drive/MyDrive/DL_advance/checkpoints/resnet18_30.pickle.\n",
            "epoch: 31, train loss: 1.362695336341858, train accuracy: 0.5106370449066162\n",
            "epoch: 32, train loss: 1.30015230178833, train accuracy: 0.5329527258872986\n",
            "epoch: 33, train loss: 1.2021883726119995, train accuracy: 0.5722956657409668\n",
            "epoch: 34, train loss: 1.1512727737426758, train accuracy: 0.5891426205635071\n",
            "epoch: 35, train loss: 1.0846807956695557, train accuracy: 0.6116786599159241\n",
            "epoch: 36, train loss: 1.021751046180725, train accuracy: 0.6338942050933838\n",
            "epoch: 37, train loss: 0.9429013133049011, train accuracy: 0.6634414792060852\n",
            "epoch: 38, train loss: 0.8901974558830261, train accuracy: 0.6822916865348816\n",
            "epoch: 39, train loss: 0.8304919004440308, train accuracy: 0.7044470906257629\n",
            "epoch: 40, train loss: 0.767268717288971, train accuracy: 0.7303285002708435\n",
            "epoch: 40, test loss: 7.080245018005371, test accuracy: 0.06416015326976776\n",
            "Saving model checkpoint to /content/drive/MyDrive/DL_advance/checkpoints/resnet18_40.pickle.\n",
            "epoch: 41, train loss: 0.6959046721458435, train accuracy: 0.7525240182876587\n",
            "epoch: 42, train loss: 0.6488608121871948, train accuracy: 0.7688701748847961\n",
            "epoch: 43, train loss: 0.5690571069717407, train accuracy: 0.7957131266593933\n",
            "epoch: 44, train loss: 0.5309585332870483, train accuracy: 0.8084936141967773\n",
            "epoch: 45, train loss: 0.4932953417301178, train accuracy: 0.8249799609184265\n",
            "epoch: 46, train loss: 0.4465748071670532, train accuracy: 0.8403445482254028\n",
            "epoch: 47, train loss: 0.3926607668399811, train accuracy: 0.8586938977241516\n",
            "epoch: 48, train loss: 0.3538864850997925, train accuracy: 0.8711938858032227\n",
            "epoch: 49, train loss: 0.3406388461589813, train accuracy: 0.8776642680168152\n",
            "epoch: 50, train loss: 0.2786414623260498, train accuracy: 0.897696316242218\n",
            "epoch: 50, test loss: 11.54224681854248, test accuracy: 0.0595703125\n",
            "Saving model checkpoint to /content/drive/MyDrive/DL_advance/checkpoints/resnet18_50.pickle.\n",
            "epoch: 51, train loss: 0.22175422310829163, train accuracy: 0.9176883101463318\n",
            "epoch: 52, train loss: 0.18935911357402802, train accuracy: 0.926682710647583\n",
            "epoch: 53, train loss: 0.19314426183700562, train accuracy: 0.9282852411270142\n",
            "epoch: 54, train loss: 0.1519303172826767, train accuracy: 0.9415264129638672\n",
            "epoch: 55, train loss: 0.11567388474941254, train accuracy: 0.9533053040504456\n",
            "epoch: 56, train loss: 0.07768648862838745, train accuracy: 0.9656049609184265\n",
            "epoch: 57, train loss: 0.06771677732467651, train accuracy: 0.9702523946762085\n",
            "epoch: 58, train loss: 0.046184245496988297, train accuracy: 0.9769631624221802\n",
            "epoch: 59, train loss: 0.027159031480550766, train accuracy: 0.9827924966812134\n",
            "epoch: 60, train loss: 0.014563490636646748, train accuracy: 0.9870592951774597\n",
            "epoch: 60, test loss: 19.69534683227539, test accuracy: 0.06298828125\n",
            "Saving model checkpoint to /content/drive/MyDrive/DL_advance/checkpoints/resnet18_60.pickle.\n",
            "epoch: 61, train loss: 0.005662171635776758, train accuracy: 0.989142656326294\n",
            "epoch: 62, train loss: 0.0028141161892563105, train accuracy: 0.9893830418586731\n",
            "epoch: 63, train loss: 0.0019624317064881325, train accuracy: 0.9894631505012512\n",
            "epoch: 64, train loss: 0.0015802392736077309, train accuracy: 0.9895032048225403\n",
            "epoch: 65, train loss: 0.001344319200143218, train accuracy: 0.9894631505012512\n",
            "epoch: 66, train loss: 0.001180763472802937, train accuracy: 0.9895232319831848\n",
            "epoch: 67, train loss: 0.0010577309876680374, train accuracy: 0.9894831776618958\n",
            "epoch: 68, train loss: 0.0009615497547201812, train accuracy: 0.9894831776618958\n",
            "epoch: 69, train loss: 0.0008857005159370601, train accuracy: 0.9895232319831848\n",
            "epoch: 70, train loss: 0.0008246821234934032, train accuracy: 0.9895032048225403\n",
            "epoch: 70, test loss: 23.21433448791504, test accuracy: 0.05947265774011612\n",
            "Saving model checkpoint to /content/drive/MyDrive/DL_advance/checkpoints/resnet18_70.pickle.\n",
            "epoch: 71, train loss: 0.00077365234028548, train accuracy: 0.9895032048225403\n",
            "epoch: 72, train loss: 0.000730841129552573, train accuracy: 0.9895032048225403\n",
            "epoch: 73, train loss: 0.0006920592859387398, train accuracy: 0.9895032048225403\n",
            "epoch: 74, train loss: 0.0006613836740143597, train accuracy: 0.9895032048225403\n",
            "epoch: 75, train loss: 0.0006338898674584925, train accuracy: 0.9895032048225403\n",
            "epoch: 76, train loss: 0.0006090856622904539, train accuracy: 0.9894831776618958\n",
            "epoch: 77, train loss: 0.0005855686613358557, train accuracy: 0.9895032048225403\n",
            "epoch: 78, train loss: 0.0005688618985004723, train accuracy: 0.9895232319831848\n",
            "epoch: 79, train loss: 0.0005504815489985049, train accuracy: 0.9895432591438293\n",
            "epoch: 80, train loss: 0.0005360131617635489, train accuracy: 0.9894831776618958\n",
            "epoch: 80, test loss: 24.051706314086914, test accuracy: 0.06074218824505806\n",
            "Saving model checkpoint to /content/drive/MyDrive/DL_advance/checkpoints/resnet18_80.pickle.\n",
            "epoch: 81, train loss: 0.0005221121828071773, train accuracy: 0.9894831776618958\n",
            "epoch: 82, train loss: 0.0005097681423649192, train accuracy: 0.9895032048225403\n",
            "epoch: 83, train loss: 0.0004987749271094799, train accuracy: 0.9894831776618958\n",
            "epoch: 84, train loss: 0.0004884217632934451, train accuracy: 0.9895032048225403\n",
            "epoch: 85, train loss: 0.00047891351277939975, train accuracy: 0.9895032048225403\n",
            "epoch: 86, train loss: 0.0004703841113951057, train accuracy: 0.9895032048225403\n",
            "epoch: 87, train loss: 0.0004620706895366311, train accuracy: 0.9895032048225403\n",
            "epoch: 88, train loss: 0.0004550490702968091, train accuracy: 0.9894831776618958\n",
            "epoch: 89, train loss: 0.0004472971777431667, train accuracy: 0.9895032048225403\n",
            "epoch: 90, train loss: 0.0004416633164510131, train accuracy: 0.9895032048225403\n",
            "epoch: 90, test loss: 24.43263816833496, test accuracy: 0.060546875\n",
            "Saving model checkpoint to /content/drive/MyDrive/DL_advance/checkpoints/resnet18_90.pickle.\n",
            "epoch: 91, train loss: 0.00043623775127343833, train accuracy: 0.9895232319831848\n",
            "epoch: 92, train loss: 0.0004307786584831774, train accuracy: 0.9894831776618958\n",
            "epoch: 93, train loss: 0.0004261776339262724, train accuracy: 0.9895032048225403\n",
            "epoch: 94, train loss: 0.0004207509336993098, train accuracy: 0.9895032048225403\n",
            "epoch: 95, train loss: 0.0004166389990132302, train accuracy: 0.9895032048225403\n",
            "epoch: 96, train loss: 0.0004131573950871825, train accuracy: 0.9894831776618958\n",
            "epoch: 97, train loss: 0.00040953329880721867, train accuracy: 0.9895232319831848\n",
            "epoch: 98, train loss: 0.00040572797297500074, train accuracy: 0.9895032048225403\n",
            "epoch: 99, train loss: 0.00040283615817315876, train accuracy: 0.9895232319831848\n",
            "Saving model checkpoint to /content/drive/MyDrive/DL_advance/checkpoints/resnet18_99.pickle.\n",
            "epoch: 99, test loss: 24.620126724243164, test accuracy: 0.06064452975988388\n"
          ]
        }
      ],
      "source": [
        "# training utilities\n",
        "def create_train_state(rng):\n",
        "    \"\"\" Initialize network and optimizer\n",
        "    \"\"\"\n",
        "    net = ResNet18(num_classes=num_classes)\n",
        "    params = net.init(rng, jnp.ones((1, 32, 32, 3)))['params']\n",
        "\n",
        "    learning_rate_scheduler = get_lr_scheduler(lr, lr_step, lr_decay, steps_per_epoch=len(train_loader))\n",
        "    tx = optax.sgd(learning_rate_scheduler, momentum=0.9, nesterov=False)\n",
        "    return train_state.TrainState.create(\n",
        "        apply_fn=net.apply, params=params, tx=tx)\n",
        "\n",
        "\n",
        "@jax.jit\n",
        "def train_step(state, batch):\n",
        "    \"\"\"Train for one step\n",
        "    \"\"\"\n",
        "    def compute_loss(params):\n",
        "        \"\"\"Cross-entropy loss with weight decay\n",
        "        \"\"\"\n",
        "        logits = ResNet18().apply({'params': params}, batch['image'])\n",
        "        loss = jnp.mean(\n",
        "            optax.softmax_cross_entropy(logits=logits, labels=jax.nn.one_hot(batch['label'], num_classes)))\n",
        "        weight_penalty_params = jax.tree_leaves(params)\n",
        "        weight_l2 = sum(\n",
        "            [jnp.sum(x ** 2) for x in weight_penalty_params if x.ndim > 1])\n",
        "        weight_penalty = weight_decay * 0.5 * weight_l2\n",
        "        loss = loss + weight_penalty\n",
        "        return loss, logits\n",
        "    grad_fn = jax.value_and_grad(compute_loss, has_aux=True)\n",
        "    (_, logits), grads = grad_fn(state.params)\n",
        "    state = state.apply_gradients(grads=grads)\n",
        "    metrics = compute_metrics(logits=logits, labels=batch['label'])\n",
        "    return state, metrics\n",
        "\n",
        "\n",
        "@jax.jit\n",
        "def eval_step(params, batch):\n",
        "    \"\"\"Evaluate ResNet18 on batch using params.\n",
        "    \"\"\"\n",
        "    logits = ResNet18().apply({'params': params}, batch['image'], train=False)\n",
        "    return compute_metrics(logits=logits, labels=batch['label'])\n",
        "\n",
        "\n",
        "def train_epoch(state, train_loader, epoch):\n",
        "    \"\"\"Train for one epoch\n",
        "    \"\"\"\n",
        "    batch_metrics = []\n",
        "    for input, target in train_loader:\n",
        "        batch = {\n",
        "            'image': input,\n",
        "            'label': target,\n",
        "        }\n",
        "\n",
        "        state, train_metrics_ep = train_step(state, batch)\n",
        "        batch_metrics.append(train_metrics_ep)\n",
        "\n",
        "    batch_metrics_np = jax.device_get(batch_metrics)\n",
        "    epoch_metrics_np = {\n",
        "        k: np.mean([metrics[k] for metrics in batch_metrics_np])\n",
        "        for k in batch_metrics_np[0]\n",
        "    }\n",
        "\n",
        "    print(\"epoch: {}, train loss: {}, train accuracy: {}\".format(\n",
        "            epoch, epoch_metrics_np['loss'], epoch_metrics_np['accuracy']))\n",
        "    return state, epoch_metrics_np\n",
        "\n",
        "\n",
        "def eval_model(epoch, params, test_loader):\n",
        "    \"\"\"Evaluate model on test set\n",
        "    \"\"\"\n",
        "    batch_metrics = []\n",
        "    for input, target in test_loader:\n",
        "        batch = {\n",
        "            'image': input,\n",
        "            'label': target,\n",
        "        }\n",
        "\n",
        "        metrics = eval_step(params, batch)\n",
        "        batch_metrics.append(metrics)\n",
        "\n",
        "    batch_metrics_np = jax.device_get(batch_metrics)\n",
        "    epoch_metrics_np = {\n",
        "        k: np.mean([metrics[k] for metrics in batch_metrics_np])\n",
        "        for k in batch_metrics_np[0]\n",
        "    }\n",
        "\n",
        "    print(\"epoch: {}, test loss: {}, test accuracy: {}\".format(\n",
        "            epoch, epoch_metrics_np['loss'], epoch_metrics_np['accuracy']))\n",
        "    return epoch_metrics_np\n",
        "\n",
        "\n",
        "def save_checkpoint(savedir, train_state, epoch):\n",
        "    \"\"\"Save train_state to savedir\"\"\"\n",
        "    state_dict = {\n",
        "        'epoch': epoch,\n",
        "        'state': train_state.params,\n",
        "    }\n",
        "    save_path = os.path.join(savedir,\n",
        "                             \"resnet18_\" + str(epoch) + '.pickle')\n",
        "    torch.save(state_dict, save_path)\n",
        "    print(\"Saving model checkpoint to {}.\".format(save_path))\n",
        "\n",
        "def try_cast(maybe_number):\n",
        "    try:\n",
        "        number = int(maybe_number)\n",
        "        return number\n",
        "    except:\n",
        "        return None\n",
        "\n",
        "def load_checkpoint(savedir):\n",
        "    \"\"\"\n",
        "        Loads the latest checkpoint from savedir\n",
        "        returns `None` if no checkpoint has been found.\n",
        "    \"\"\"\n",
        "    save_path = glob(checkpoints_dir+'/*.pickle')\n",
        "    path_dict = {}\n",
        "    path_sections = map(\n",
        "        lambda x:x.replace(\".pickle\",\"\").split(\"_\")[-1],\n",
        "        save_path)\n",
        "    for i,maybe_num in enumerate(path_sections):\n",
        "        num = try_cast(maybe_num)\n",
        "        if num is not None:\n",
        "            path_dict[num] = save_path[i]\n",
        "    if len(path_dict) != 0:\n",
        "        latest_checkpoint = sorted(path_dict.items(),\n",
        "                    key=lambda x: x[1])[-1][1]\n",
        "        state_dict = torch.load(latest_checkpoint)\n",
        "        print(\"Loading model from checkpoint {}.\".format(latest_checkpoint))\n",
        "        return state_dict\n",
        "    else:\n",
        "        return None\n",
        "\n",
        "def load_train_state(state_dict):\n",
        "    net = ResNet18(num_classes=num_classes)\n",
        "    params = state_dict['state']\n",
        "    lr_step = state_dict['epoch']*len(train_loader)\n",
        "    learning_rate_scheduler = get_lr_scheduler(lr, lr_step, lr_decay, steps_per_epoch=len(train_loader))\n",
        "    tx = optax.sgd(learning_rate_scheduler, momentum=0.9, nesterov=False)\n",
        "    return train_state.TrainState.create(\n",
        "        apply_fn=net.apply, params=params, tx=tx)\n",
        "\n",
        "def train_and_evaluate():\n",
        "    \"\"\"Train and evaluate model\"\"\"\n",
        "    # Initialize model\n",
        "    rng = jax.random.PRNGKey(seed)\n",
        "    state_dict = load_checkpoint(checkpoints_dir)\n",
        "    if state_dict is None:\n",
        "        state = create_train_state(rng)\n",
        "        save_checkpoint(checkpoints_dir,\n",
        "                        state,\n",
        "                        'init')\n",
        "        start_epoch = 0\n",
        "    else:\n",
        "        state = load_train_state(state_dict)\n",
        "        start_epoch = state_dict['epoch']+1\n",
        "\n",
        "    metrics = {\n",
        "        'train': {\n",
        "            'loss' : [],\n",
        "            'accuracy': [],\n",
        "        },\n",
        "        'test': {\n",
        "            'loss': [],\n",
        "            'accuracy': [],\n",
        "        },\n",
        "    }\n",
        "\n",
        "    for epoch in range(start_epoch, max_epochs):\n",
        "\n",
        "        state, train_metrics = train_epoch(state, train_loader, epoch)\n",
        "        if stopping_criterion(train_metrics['accuracy']):\n",
        "            print(\"Stopping criterion reached: train accuracy = {}\".format(train_metrics['accuracy']))\n",
        "            break\n",
        "\n",
        "        if epoch % 10 == 0:\n",
        "            test_metrics = eval_model(epoch, state.params, test_loader)\n",
        "            save_checkpoint(checkpoints_dir, state, epoch)\n",
        "            for key in train_metrics:\n",
        "                metrics['train'][key].append(train_metrics[key])\n",
        "                metrics['test'][key].append(test_metrics[key])\n",
        "\n",
        "    save_checkpoint(checkpoints_dir, state, epoch)\n",
        "    test_metrics = eval_model(epoch, state.params, test_loader)\n",
        "    for key in test_metrics:\n",
        "        metrics['train'][key].append(train_metrics[key])\n",
        "        metrics['test'][key].append(test_metrics[key])\n",
        "\n",
        "    return state, metrics, epoch\n",
        "\n",
        "# Train model\n",
        "trained_state, metrics, last_epoch = train_and_evaluate()"
      ],
      "id": "0cd0cb72-7d44-4954-88e3-9ae6eba8aecf"
    },
    {
      "cell_type": "code",
      "execution_count": null,
      "metadata": {
        "id": "f3eeeb9b-60dd-498a-9b2d-e1e5fed0197a"
      },
      "outputs": [],
      "source": [
        "# Train model\n",
        "trained_state, metrics, last_epoch = train_and_evaluate()"
      ],
      "id": "f3eeeb9b-60dd-498a-9b2d-e1e5fed0197a"
    },
    {
      "cell_type": "code",
      "execution_count": null,
      "metadata": {
        "id": "ca26b3c3-4790-4f3e-99a2-096b83f9c705",
        "colab": {
          "base_uri": "https://localhost:8080/",
          "height": 867
        },
        "outputId": "917bde94-844e-4489-e009-7a781e5419d2"
      },
      "outputs": [
        {
          "output_type": "execute_result",
          "data": {
            "text/plain": [
              "Text(0.5, 0, 'epochs')"
            ]
          },
          "metadata": {},
          "execution_count": 19
        },
        {
          "output_type": "display_data",
          "data": {
            "text/plain": [
              "<Figure size 1000x1000 with 3 Axes>"
            ],
            "image/png": "[encoded data removed]"
          },
          "metadata": {}
        }
      ],
      "source": [
        "# plot training statistics\n",
        "fig, axs = plt.subplots(3, figsize=(10,10), sharex=True)\n",
        "epochs = np.arange(len(metrics['test']['loss'])) * 10\n",
        "if last_epoch % 10 != 0:\n",
        "    epochs[-1] = last_epoch\n",
        "\n",
        "axs[0].plot(epochs, metrics['train']['loss'], label='train loss')\n",
        "axs[0].plot(epochs, metrics['test']['loss'], label='test loss')\n",
        "axs[0].legend(loc='upper right')\n",
        "axs[0].set_ylabel('loss')\n",
        "axs[1].plot(epochs, metrics['train']['accuracy'], label='train acc')\n",
        "axs[1].plot(epochs, metrics['test']['accuracy'], label='test acc')\n",
        "axs[1].legend(loc='center right')\n",
        "axs[1].set_ylabel('accuracy')\n",
        "axs[1].set_ylim(0., 1.0)\n",
        "\n",
        "# plot learning rate schedule\n",
        "num_batches = len(train_loader)\n",
        "lr_scheduler = get_lr_scheduler(\n",
        "    lr, lr_step, lr_decay, steps_per_epoch=num_batches)\n",
        "lr_schedule = [jax.device_get(lr_scheduler(epoch * num_batches)).item() for epoch in epochs]\n",
        "\n",
        "axs[2].plot(epochs, lr_schedule)\n",
        "axs[2].set_ylabel('learning rate')\n",
        "axs[2].set_xlabel('epochs')"
      ],
      "id": "ca26b3c3-4790-4f3e-99a2-096b83f9c705"
    },
    {
      "cell_type": "markdown",
      "metadata": {
        "id": "ec539bdc-5d63-429c-af06-36c2abd586ba"
      },
      "source": [
        "## Explicit regularization\n",
        "\n",
        "If unregularized networks can fit arbitrary labellings of the data, what factors control the learning of patterns that generalize to unseen data? Is the success of deep learning simply explained by the right choice of explicit regularization?\n",
        "\n",
        "The following plot shows the effectiveness of several regularization techniques at contrasting memorization, by comparing the training accuracy reached under several degrees of label noise. Furthermore, for each combination of regularization techniques, the best validation accuracy on clean labels is reported in the legend of the plot.\n",
        "\n",
        "![Comparison of several explict regularization techniques](figs/expl_regularization.png \"Explicit regularization vs label noise\")\n",
        "\n",
        "### Questions\n",
        "\n",
        "* Which technique is most effective at hindering memorization?\n",
        "* Which technique yields the best performance when no corrupted training labels are present?\n",
        "* Is learning only possible with explicit regularization? Motivate!\n",
        "\n",
        "### Answers\n",
        "- The data augmentation with weight decay hindering memorization the most.\n",
        "- The data augmentation with weight decay also performs the best when no corrupted training labels are present.\n",
        "- Implicit regularization is also effectively hindering memorization sometimes."
      ],
      "id": "ec539bdc-5d63-429c-af06-36c2abd586ba"
    },
    {
      "cell_type": "markdown",
      "metadata": {
        "id": "9ff8228d-e660-4a73-9f34-81f38de33bc6"
      },
      "source": [
        "## Implicit regularization\n",
        "\n",
        "In this last plot, several regularization techniques are compared on clean labels, against learning without explicit regularization. All networks have been trained until a target training cross-entropy loss value of $0.19$ was reached.\n",
        "\n",
        "![Explicit vs implict regularization](figs/impl_regularization.png \"Explicit vs implicit regularization\")\n",
        "\n",
        "* What do you observe? Is explicit regulaziation needed for achieving non-trivial performance?\n",
        "* If explict regularization alone does not explain learning, could you speculate on what factors, implicit in standard deep learning, are responsible for generalization?\n",
        "\n",
        "###Answers\n",
        "- Model without any explicit regularization can also achieve a good results.\n",
        "- EarlyStopping implicitly leads to the generalization of a deep model."
      ],
      "id": "9ff8228d-e660-4a73-9f34-81f38de33bc6"
    },
    {
      "cell_type": "markdown",
      "metadata": {
        "id": "f10d9eb6-5da4-46bb-aead-fdefffee6532"
      },
      "source": [
        "## Next steps\n",
        "The code provided in this notebook is slightly more general than what is required to solve the assignment. In fact, you can use the code to train your networks on clean labels, for instance by also enabling data augmentation and batch normalization. If you choose to do so, you probably need to tweak the learning rate schedule as well. Below, one example of a piece-wise constant learning rate policy, often used in practice, is provided.\n",
        "\n",
        "You can use the schedule proposed to train a VGG-11 network, on clean labels (`label_noise = 0.`), with data augmentation. For such network, it is suggested to use a small weight decay, like $1\\rm{e}-4$ and start with a smaller initial learning rate `lr = 0.01`. Such network will be needed for completing the optional task of Part II."
      ],
      "id": "f10d9eb6-5da4-46bb-aead-fdefffee6532"
    },
    {
      "cell_type": "code",
      "execution_count": null,
      "metadata": {
        "id": "da759ec4-53b0-4117-96f1-f1127cceb991"
      },
      "outputs": [],
      "source": [
        "num_batches = len(train_loader)\n",
        "step_lr_schedule_args = {30 * num_batches: 0.5, 60 * num_batches: 0.5, 90 * num_batches: 0.5}\n",
        "scheduler = optax.piecewise_constant_schedule(init_value=lr, boundaries_and_scales=step_lr_schedule_args)"
      ],
      "id": "da759ec4-53b0-4117-96f1-f1127cceb991"
    },
    {
      "cell_type": "markdown",
      "metadata": {
        "id": "qAQp7Jwly1Ri"
      },
      "source": [
        "Finally, it is valuable for us to know how long did it take you to complete this practical.\n",
        "\n",
        "- It took 2 hours for me to finish this practical assignment."
      ],
      "id": "qAQp7Jwly1Ri"
    },
    {
      "cell_type": "markdown",
      "metadata": {
        "id": "75f53178-d096-443a-9075-d44f3683a3a3"
      },
      "source": [
        "## Acknowledgements\n",
        "\n",
        "* The data loading boilerplate code and the training algorithm are adapted from the [official JAX documentation](https://jax.readthedocs.io/en/latest/notebooks/Neural_Network_and_Data_Loading.html).\n",
        "\n",
        "* ResNet definition adapted from the official [FLAX ImageNet example](https://github.com/google/flax/blob/master/examples/imagenet/models.py).\n",
        "\n",
        "* PIL to numpy array transforms are adapted from the following [CIFAR-10 example](https://github.com/hushon/JAX-ResNet-CIFAR10/blob/main/train.py).\n"
      ],
      "id": "75f53178-d096-443a-9075-d44f3683a3a3"
    },
    {
      "cell_type": "markdown",
      "metadata": {
        "id": "a2d9a830-6cd7-4a6e-a655-de25648738fe"
      },
      "source": [
        "## References\n",
        "1. [Understanding deep learning requires rethinking generalization](https://arxiv.org/abs/1611.03530)  - Zhang et al. ICLR 2017.\n",
        "2. [A Closer Look at Memorization in Deep Networks](https://icml.cc/Conferences/2017/ScheduleMultitrack?event=1327) - Arpit et al. ICML 2017.\n",
        "3. [Sensitivity and Generalization in Neural Networks: an Empirical Study](https://openreview.net/forum?id=HJC2SzZCW) - Novak et al. ICLR 2018.\n",
        "4. [In Search of the Real Inductive Bias: On the Role of Implicit Regularization in Deep Learning](https://openreview.net/forum?id=6AzZb_7Qo0e) - Neyshabur, Tomioka, and Srebro. ICLR Workshop Track 2015."
      ],
      "id": "a2d9a830-6cd7-4a6e-a655-de25648738fe"
    },
    {
      "cell_type": "markdown",
      "metadata": {
        "id": "c5bacea6-7fc2-4bdf-9795-756c2b1d8de3"
      },
      "source": [
        "## Changelog\n",
        "| Version \t| Contribution      \t| Author (Affiliation) \t                | Contact \t        |\n",
        "|---------\t|-------------------\t|-----------------------------------    |---------\t        |\n",
        "| 1.0     \t| First development \t| Matteo Gamba (KTH/EECS/RPL)       \t|  ![contact address](figs/contact.png \"Contact information\") \t|"
      ],
      "id": "c5bacea6-7fc2-4bdf-9795-756c2b1d8de3"
    }
  ],
  "metadata": {
    "accelerator": "GPU",
    "colab": {
      "provenance": []
    },
    "gpuClass": "standard",
    "kernelspec": {
      "display_name": "Python 3",
      "language": "python",
      "name": "python3"
    },
    "language_info": {
      "codemirror_mode": {
        "name": "ipython",
        "version": 3
      },
      "file_extension": ".py",
      "mimetype": "text/x-python",
      "name": "python",
      "nbconvert_exporter": "python",
      "pygments_lexer": "ipython3",
      "version": "3.8.10"
    }
  },
  "nbformat": 4,
  "nbformat_minor": 5
}